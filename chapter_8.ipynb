{
 "cells": [
  {
   "cell_type": "code",
   "execution_count": 1,
   "metadata": {},
   "outputs": [
    {
     "name": "stdout",
     "output_type": "stream",
     "text": [
      "I'm learning python function in this chapter\n"
     ]
    }
   ],
   "source": [
    "def display_message():\n",
    "    print(\"I'm learning python function in this chapter\")\n",
    "\n",
    "display_message()"
   ]
  },
  {
   "cell_type": "code",
   "execution_count": 3,
   "metadata": {},
   "outputs": [
    {
     "name": "stdout",
     "output_type": "stream",
     "text": [
      "One of my favorite book is Alice.\n"
     ]
    }
   ],
   "source": [
    "# 8-2. Favorite Book:\n",
    "\n",
    "def favorite_book(title):\n",
    "    print(\"One of my favorite book is \" + title + \".\")\n",
    "\n",
    "favorite_book('Alice')"
   ]
  },
  {
   "cell_type": "code",
   "execution_count": 6,
   "metadata": {},
   "outputs": [
    {
     "name": "stdout",
     "output_type": "stream",
     "text": [
      "Size: SMALL\n",
      "Nigerian sport\n",
      "Size: XL\n",
      "Nigerian sport\n"
     ]
    }
   ],
   "source": [
    "# 8-3. T-Shirt:\n",
    "\n",
    "def shirt(size, text):\n",
    "    print(\"Size: \" + size.upper())\n",
    "    print(text)\n",
    "\n",
    "shirt('small', 'Nigerian sport')\n",
    "shirt(text=\"Nigerian sport\", size='xl')\n"
   ]
  },
  {
   "cell_type": "code",
   "execution_count": 9,
   "metadata": {},
   "outputs": [
    {
     "name": "stdout",
     "output_type": "stream",
     "text": [
      "large\n",
      "I love Python\n",
      "medium\n",
      "I love Python\n",
      "small\n",
      "Coding is passionable\n"
     ]
    }
   ],
   "source": [
    "# 8-4. Large Shirts:\n",
    "def shirt(size , text='I love Python'):\n",
    "    print(size)\n",
    "    print(text)\n",
    "\n",
    "shirt('large')\n",
    "shirt('medium')\n",
    "shirt('small', 'Coding is passionable')\n",
    "\n",
    "    \n",
    "\n"
   ]
  },
  {
   "cell_type": "code",
   "execution_count": 14,
   "metadata": {},
   "outputs": [
    {
     "name": "stdout",
     "output_type": "stream",
     "text": [
      "Kano is in Nigeria\n",
      "London is in England\n",
      "Akra is in Chana\n"
     ]
    }
   ],
   "source": [
    "# 8-5. Cities:\n",
    "\n",
    "def describe_cities(city, country = 'nigeria'):\n",
    "    print(city.title() + \" is in \" + country.title())\n",
    "\n",
    "describe_cities('kano')\n",
    "describe_cities('london', 'england')\n",
    "describe_cities('akra', 'chana')"
   ]
  },
  {
   "cell_type": "code",
   "execution_count": null,
   "metadata": {},
   "outputs": [
    {
     "name": "stdout",
     "output_type": "stream",
     "text": [
      "Kano, Nigeria\n",
      "Santiago, Chile\n",
      "New York, America\n"
     ]
    }
   ],
   "source": [
    "# 8-6. City Names:\n",
    "def city_country(city, country):\n",
    "    \"\"\"print city name and its country\"\"\"\n",
    "    name = city + ', ' + country\n",
    "    return name.title()\n",
    "\n",
    "print(city_country(\"kano\", \"nigeria\"))\n",
    "print(city_country(\"santiago\", \"chile\"))\n",
    "print(city_country(\"new york\", \"america\"))\n",
    "\n"
   ]
  },
  {
   "cell_type": "code",
   "execution_count": 2,
   "metadata": {},
   "outputs": [
    {
     "name": "stdout",
     "output_type": "stream",
     "text": [
      "{'Artist Name': 'sadi', 'Album_title': 'labarina'}\n",
      "{'Artist Name': 'gwanja', 'Album_title': 'asosa'}\n",
      "{'Artist Name': 'sarkin waka', 'Album_title': 'torangiwa', 'track_number': 12}\n"
     ]
    },
    {
     "data": {
      "text/plain": [
       "{'Artist Name': 'rarara',\n",
       " 'Album_title': 'fatima mai zogala',\n",
       " 'track_number': 43}"
      ]
     },
     "execution_count": 2,
     "metadata": {},
     "output_type": "execute_result"
    }
   ],
   "source": [
    "# 8-7. Album:\n",
    "\n",
    "def make_album(artist_name, title, track_number=''):\n",
    "    \"\"\"printing a dictionary contains artist name and album title\"\"\"\n",
    "    artist = {'Artist Name': artist_name, 'Album_title': title}\n",
    "    if track_number:\n",
    "        artist['track_number'] = track_number\n",
    "    return artist\n",
    "    \n",
    "\n",
    "\n",
    "album_1 = make_album('sadi', 'labarina')\n",
    "album_2 = make_album('gwanja', 'asosa')\n",
    "album_3 = make_album('sarkin waka', 'torangiwa', 12)\n",
    "print(album_1)\n",
    "print(album_2)\n",
    "print(album_3)\n",
    "make_album('rarara', 'fatima mai zogala', 43)\n"
   ]
  },
  {
   "cell_type": "code",
   "execution_count": 15,
   "metadata": {},
   "outputs": [
    {
     "name": "stdout",
     "output_type": "stream",
     "text": [
      "The albuminfomations\n",
      "Entter 'q' to quit\n",
      "{'Artist Name': 'rarara', 'Album_title': 'tinibu'}\n",
      "The albuminfomations\n",
      "Entter 'q' to quit\n",
      "{'Artist Name': 'sadi', 'Album_title': 'rayuwa'}\n",
      "The albuminfomations\n",
      "Entter 'q' to quit\n"
     ]
    }
   ],
   "source": [
    "# 8-8. User Albums:\n",
    "import sys\n",
    "def make_album(artist_name, title, track_number=''):\n",
    "    \"\"\"printing a dictionary contains artist name and album title\"\"\"\n",
    "    artist = {'Artist Name': artist_name, 'Album_title': title}\n",
    "    return artist\n",
    "\n",
    "while True:\n",
    "    print(\"The albuminfomations\")\n",
    "    print(\"Entter 'q' to quit\")\n",
    "\n",
    "    a_name = input(\"Artist Name: \")\n",
    "    if a_name =='q':\n",
    "        break\n",
    "\n",
    "    a_title = input(\"Artist Title: \")\n",
    "    if a_title =='q':\n",
    "        break\n",
    "\n",
    "    artist_info = make_album(a_name, a_title) \n",
    "    print(artist_info)\n",
    "\n",
    "sys.stdout.flush()\n",
    "    \n"
   ]
  },
  {
   "cell_type": "code",
   "execution_count": 23,
   "metadata": {},
   "outputs": [
    {
     "name": "stdout",
     "output_type": "stream",
     "text": [
      "boka\n",
      "nakada\n",
      "baare\n"
     ]
    }
   ],
   "source": [
    "# 8-9. Magicians: Make a list of magician’s names. Pass the list to a function\n",
    "# called show_magicians(), which prints the name of each magician in the list.\n",
    "\n",
    "def show_magicians(magicians):\n",
    "    for magician in magicians:\n",
    "        print(magician)\n",
    "magician_list = ['boka', 'nakada', 'baare']\n",
    "show_magicians(magician_list)"
   ]
  },
  {
   "cell_type": "code",
   "execution_count": 22,
   "metadata": {},
   "outputs": [
    {
     "name": "stdout",
     "output_type": "stream",
     "text": [
      "Hello, boka\n",
      "Hello, nakada\n",
      "Hello, baare\n"
     ]
    }
   ],
   "source": [
    "# 8-10. Great Magicians: Start with a copy of your program from Exercise 8-9.\n",
    "# Write a function called make_great() that modifies the list of magicians by add-\n",
    "# ing the phrase the Great to each magician’s name. Call show_magicians() to\n",
    "# see that the list has actually been modified.\n",
    "\n",
    "def make_great(magicians):\n",
    "    for magician in magicians:\n",
    "        print(\"Hello, \" + magician)\n",
    "\n",
    "make_great(['boka', 'nakada', 'baare'])\n",
    "\n"
   ]
  },
  {
   "cell_type": "code",
   "execution_count": 29,
   "metadata": {},
   "outputs": [
    {
     "name": "stdout",
     "output_type": "stream",
     "text": [
      "Hello, boka\n",
      "Hello, nakada\n",
      "Hello, baare\n",
      "boka\n",
      "nakada\n",
      "baare\n"
     ]
    },
    {
     "ename": "TypeError",
     "evalue": "'NoneType' object is not iterable",
     "output_type": "error",
     "traceback": [
      "\u001b[0;31m---------------------------------------------------------------------------\u001b[0m",
      "\u001b[0;31mTypeError\u001b[0m                                 Traceback (most recent call last)",
      "Cell \u001b[0;32mIn[29], line 11\u001b[0m\n\u001b[1;32m      8\u001b[0m new_list \u001b[38;5;241m=\u001b[39m make_great(magician_list[:])\n\u001b[1;32m     10\u001b[0m show_magicians(magician_list)\n\u001b[0;32m---> 11\u001b[0m \u001b[43mshow_magicians\u001b[49m\u001b[43m(\u001b[49m\u001b[43mnew_list\u001b[49m\u001b[43m)\u001b[49m\n",
      "Cell \u001b[0;32mIn[23], line 5\u001b[0m, in \u001b[0;36mshow_magicians\u001b[0;34m(magicians)\u001b[0m\n\u001b[1;32m      4\u001b[0m \u001b[38;5;28;01mdef\u001b[39;00m \u001b[38;5;21mshow_magicians\u001b[39m(magicians):\n\u001b[0;32m----> 5\u001b[0m     \u001b[38;5;28;01mfor\u001b[39;00m magician \u001b[38;5;129;01min\u001b[39;00m magicians:\n\u001b[1;32m      6\u001b[0m         \u001b[38;5;28mprint\u001b[39m(magician)\n",
      "\u001b[0;31mTypeError\u001b[0m: 'NoneType' object is not iterable"
     ]
    }
   ],
   "source": [
    "# 8-11. Unchanged Magicians: Start with your work from Exercise 8-10. Call the\n",
    "# function make_great() with a copy of the list of magicians’ names. Because the\n",
    "# original list will be unchanged, return the new list and store it in a separate list.\n",
    "# Call show_magicians() with each list to show that you have one list of the origi-\n",
    "# nal names and one list with the Great added to each magician’s name.\n",
    "\n",
    "\n",
    "new_list = make_great(magician_list[:])\n",
    "\n",
    "show_magicians(magician_list)\n",
    "show_magicians(new_list)"
   ]
  },
  {
   "cell_type": "code",
   "execution_count": 35,
   "metadata": {},
   "outputs": [
    {
     "name": "stdout",
     "output_type": "stream",
     "text": [
      "('soap',)\n",
      "('sawarma', 'pizza', 'samosa')\n"
     ]
    }
   ],
   "source": [
    "# 8-12. Sandwiches: Write a function that accepts a list of items a person wants\n",
    "# on a sandwich. The function should have one parameter that collects as many\n",
    "# items as the function call provides, and it should print a summary of the sand-\n",
    "# wich that is being ordered. Call the function three times, using a different num-\n",
    "# ber of arguments each time.\n",
    "\n",
    "def sandwich(*adds):\n",
    "    print(adds)\n",
    "\n",
    "sandwich('soap')\n",
    "sandwich('sawarma', 'pizza', 'samosa')\n",
    "\n",
    " "
   ]
  },
  {
   "cell_type": "code",
   "execution_count": 38,
   "metadata": {},
   "outputs": [
    {
     "name": "stdout",
     "output_type": "stream",
     "text": [
      "{'first_name': 'naziru', 'last_name': 'ibrahim', 'location': 'nigeria', 'field': 'engineering', 'fashion': 'prigramming'}\n"
     ]
    }
   ],
   "source": [
    "# 8-13. User Profile: Start with a copy of user_profile.py from page 153. Build\n",
    "# a profile of yourself by calling build_profile(), using your first and last names\n",
    "# and three other key-value pairs that describe you.\n",
    "\n",
    "def build_profile(first, last, **user_info):\n",
    "    \"\"\"Build a dictionary containing everything we know about a user.\"\"\"\n",
    "    profile = {}\n",
    "\n",
    "    profile['first_name'] = first\n",
    "    profile['last_name'] = last\n",
    "\n",
    "    for key, value in user_info.items():\n",
    "        profile[key] = value\n",
    "    return profile\n",
    "\n",
    "user_profile = build_profile('naziru', 'ibrahim',\n",
    "                            location='nigeria',\n",
    "                            field='engineering',\n",
    "                            fashion='prigramming')\n",
    "print(user_profile)"
   ]
  },
  {
   "cell_type": "code",
   "execution_count": 40,
   "metadata": {},
   "outputs": [
    {
     "name": "stdout",
     "output_type": "stream",
     "text": [
      "{'manucturer': 'marsandi', 'model': 2000, 'color': 'green', 'seat': 'three seater', 'year': 2023}\n"
     ]
    }
   ],
   "source": [
    "# 8-14. Cars: Write a function that stores information about a car in a diction-\n",
    "# ary. The function should always receive a manufacturer and a model name. It\n",
    "# should then accept an arbitrary number of keyword arguments. Call the func-\n",
    "# tion with the required information and two other name-value pairs, such as a\n",
    "# color or an optional feature. Your function should work for a call like this one:\n",
    "\n",
    "def make_car(manufacturer, model, **others):\n",
    "    '''making a car'''\n",
    "    car = {}\n",
    "    car['manucturer'] = manufacturer\n",
    "    car['model'] = model\n",
    "\n",
    "    for k, v in others.items():\n",
    "        car[k] = v\n",
    "    return car\n",
    "\n",
    "car_1 = make_car('marsandi', 2000,\n",
    "                 color='green',\n",
    "                 seat='three seater',\n",
    "                 year=2023,)\n",
    "print(car_1)"
   ]
  },
  {
   "cell_type": "code",
   "execution_count": null,
   "metadata": {},
   "outputs": [],
   "source": []
  }
 ],
 "metadata": {
  "kernelspec": {
   "display_name": "Python 3",
   "language": "python",
   "name": "python3"
  },
  "language_info": {
   "codemirror_mode": {
    "name": "ipython",
    "version": 3
   },
   "file_extension": ".py",
   "mimetype": "text/x-python",
   "name": "python",
   "nbconvert_exporter": "python",
   "pygments_lexer": "ipython3",
   "version": "3.10.12"
  }
 },
 "nbformat": 4,
 "nbformat_minor": 2
}
