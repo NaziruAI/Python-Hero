{
 "cells": [
  {
   "cell_type": "code",
   "execution_count": 1,
   "metadata": {},
   "outputs": [
    {
     "name": "stdout",
     "output_type": "stream",
     "text": [
      "False\n"
     ]
    }
   ],
   "source": [
    "\n",
    "# solve this\n",
    "# An extra day is added to the calendar almost every four years as February 29, and the day is called a leap day. It corrects the calendar for the fact that our planet takes approximately 365.25 days to orbit the sun. A leap year contains a leap day.\n",
    "\n",
    "# In the Gregorian calendar, three conditions are used to identify leap years:\n",
    "\n",
    "# Use print or log statements to debug why your hidden test cases are failing. Hidden test cases are used to evaluate if your code can handle different scenarios, including corner cases.\n",
    "\n",
    "#     The year can be evenly divided by 4, is a leap year, unless:\n",
    "#         The year can be evenly divided by 100, it is NOT a leap year, unless:\n",
    "#             The year is also evenly divisible by 400. Then it is a leap year.\n",
    "\n",
    "# This means that in the Gregorian calendar, the years 2000 and 2400 are leap years, while 1800, 1900, 2100, 2200, 2300 and 2500 are NOT leap years. Source\n",
    "\n",
    "# Task\n",
    "\n",
    "# Given a year, determine whether it is a leap year. If it is a leap year, return the Boolean True, otherwise return False.\n",
    "\n",
    "\n",
    "\n",
    "   \n",
    "def is_leap(year):\n",
    "    # Check if the year is a leap year\n",
    "    if year % 4 == 0:  # Divisible by 4\n",
    "        if year % 100 == 0:  # Divisible by 100\n",
    "            if year % 400 == 0:  # Divisible by 400\n",
    "                return True  # Leap year\n",
    "            else:\n",
    "                return False  # Not a leap year\n",
    "        else:\n",
    "            return True  # Leap year\n",
    "    else:\n",
    "        return False  # Not a leap year\n",
    "\n",
    "# Example usage\n",
    "year = int(input(\"Enter a year: \"))\n",
    "print(is_leap(year))\n",
    "\n"
   ]
  },
  {
   "cell_type": "code",
   "execution_count": 16,
   "metadata": {},
   "outputs": [
    {
     "name": "stdout",
     "output_type": "stream",
     "text": [
      "1, 4, 9, 16, 25, 36, 49, 64, 81, 100, "
     ]
    }
   ],
   "source": [
    "for i in range(1, 10+1):\n",
    "    print(i**2, sep='-', end=', ')"
   ]
  },
  {
   "cell_type": "code",
   "execution_count": 20,
   "metadata": {},
   "outputs": [],
   "source": [
    "with open(\"output.txt\", \"w\") as f:\n",
    "    for i in range(1, 10+1):\n",
    "        print(i**2, sep='-', end=', ', file=f)\n"
   ]
  },
  {
   "cell_type": "code",
   "execution_count": 25,
   "metadata": {},
   "outputs": [
    {
     "name": "stdout",
     "output_type": "stream",
     "text": [
      "0 1 2 3 4 "
     ]
    }
   ],
   "source": [
    "import time\n",
    "for i in range(5):\n",
    "    print(i, end=\" \", flush=True)\n",
    "    time.sleep(1)\n",
    "# Output: 0 1 2 (each number appears with a delay)\n"
   ]
  },
  {
   "cell_type": "code",
   "execution_count": 14,
   "metadata": {},
   "outputs": [
    {
     "ename": "ValueError",
     "evalue": "invalid literal for int() with base 10: '3 1'",
     "output_type": "error",
     "traceback": [
      "\u001b[0;31m---------------------------------------------------------------------------\u001b[0m",
      "\u001b[0;31mValueError\u001b[0m                                Traceback (most recent call last)",
      "Cell \u001b[0;32mIn[14], line 3\u001b[0m\n\u001b[1;32m      1\u001b[0m \u001b[38;5;66;03m# Number of test cases\u001b[39;00m\n\u001b[0;32m----> 3\u001b[0m t \u001b[38;5;241m=\u001b[39m \u001b[38;5;28;43mint\u001b[39;49m\u001b[43m(\u001b[49m\u001b[38;5;28;43minput\u001b[39;49m\u001b[43m(\u001b[49m\u001b[43m)\u001b[49m\u001b[43m)\u001b[49m\n\u001b[1;32m      5\u001b[0m \u001b[38;5;28;01mfor\u001b[39;00m _ \u001b[38;5;129;01min\u001b[39;00m \u001b[38;5;28mrange\u001b[39m(t):\n\u001b[1;32m      6\u001b[0m     \u001b[38;5;28;01mtry\u001b[39;00m:\n\u001b[1;32m      7\u001b[0m         \u001b[38;5;66;03m# Read the inputs\u001b[39;00m\n",
      "\u001b[0;31mValueError\u001b[0m: invalid literal for int() with base 10: '3 1'"
     ]
    }
   ],
   "source": [
    "# Number of test cases\n",
    "\n",
    "t = int(input())\n",
    "\n",
    "for _ in range(t):\n",
    "    try:\n",
    "        # Read the inputs\n",
    "        a, b = map(int, input().split())\n",
    "        \n",
    "        # Perform integer division\n",
    "        result = a // b\n",
    "        \n",
    "        # Print the result\n",
    "        print(result)\n",
    "    \n",
    "    except ZeroDivisionError as e:\n",
    "        # Handle division by zero\n",
    "        print(\"Error Code:\", e)\n",
    "    \n",
    "    except ValueError as e:\n",
    "        # Handle invalid input\n",
    "        print(\"Error Code:\", e)\n"
   ]
  },
  {
   "cell_type": "code",
   "execution_count": 21,
   "metadata": {},
   "outputs": [
    {
     "name": "stdout",
     "output_type": "stream",
     "text": [
      "Weather in Jos is few clouds  with 20.82 temperature\n",
      "Latitude: 9.9167, Logitude: 8.9\n"
     ]
    }
   ],
   "source": [
    "import requests\n",
    "def get_weather(city):\n",
    "    api = \"a73fbebc441e170a6a21dd2c2c82efae\"\n",
    "    url = f\"http://api.openweathermap.org/data/2.5/weather?q={city}&appid={api}&units=metric\"\n",
    "    response = requests.get(url)\n",
    "    if response.status_code == 200:\n",
    "        data = response.json()\n",
    "        print(f\"Weather in {city.title()} is {data['weather'][0]['description']}  with {data['main']['temp']} temperature\")\n",
    "        print(f\"Latitude: {data['coord']['lat']}, Logitude: {data['coord']['lon']}\")\n",
    "    else:\n",
    "        print(f\"Sorry there is a problem with city name or internet issue\")\n",
    "city_name = input(\"Enter the city name: \")\n",
    "get_weather(city_name)"
   ]
  },
  {
   "cell_type": "code",
   "execution_count": 17,
   "metadata": {},
   "outputs": [
    {
     "name": "stdout",
     "output_type": "stream",
     "text": [
      "Name saved successfully\n"
     ]
    }
   ],
   "source": [
    "def remainder():\n",
    "    with open('results.json', 'a') as file:\n",
    "        name = input(\"Enter the name: \")\n",
    "        file.write(name.title())\n",
    "        print(\"Name saved successfully\")\n",
    "\n",
    "remainder()\n",
    "\n"
   ]
  },
  {
   "cell_type": "code",
   "execution_count": null,
   "metadata": {},
   "outputs": [
    {
     "name": "stdout",
     "output_type": "stream",
     "text": [
      "2 <function remainder at 0x7741d4be0040>\n",
      "3 <function remainder at 0x7741d4be0040>\n",
      "4 <function remainder at 0x7741d4be0040>\n",
      "5 <function remainder at 0x7741d4be0040>\n",
      "6 <function remainder at 0x7741d4be0040>\n",
      "7 <function remainder at 0x7741d4be0040>\n"
     ]
    }
   ],
   "source": [
    "def show_remaider():\n",
    "    with open(\"results.json\", 'r') as f:\n",
    "        remainders = f.readlines()\n",
    "        for i, reminder in enumerate(remainders, 2):\n",
    "            print(i, remainder)\n",
    "\n",
    "show_remaider()"
   ]
  },
  {
   "cell_type": "code",
   "execution_count": 40,
   "metadata": {},
   "outputs": [
    {
     "name": "stdout",
     "output_type": "stream",
     "text": [
      "Here's a joke: What happened to the man who got behind on payments to his exorcist?\n",
      "He got repossessed.\n"
     ]
    }
   ],
   "source": [
    "import requests\n",
    "\n",
    "def get_joke():\n",
    "    url = \"https://v2.jokeapi.dev/joke/Any\"\n",
    "    response = requests.get(url)\n",
    "    if response.status_code == 200:\n",
    "        jokes = response.json()\n",
    "        if jokes['type'] == 'single':\n",
    "            print(jokes['joke'])\n",
    "        else:\n",
    "            print(f\"Here's a joke: {jokes['setup']}\\n{jokes['delivery']}\")\n",
    "\n",
    "    else:\n",
    "        print(\"Sorry no jokes\")\n",
    "\n",
    "get_joke()"
   ]
  },
  {
   "cell_type": "code",
   "execution_count": 7,
   "metadata": {},
   "outputs": [
    {
     "name": "stdout",
     "output_type": "stream",
     "text": [
      "Error: Division by zero error\n"
     ]
    }
   ],
   "source": [
    "a = float(input(\"enter first number: \"))\n",
    "oprator = input(\"enter oprator: \")\n",
    "b = float(input(\"enter second number: \"))\n",
    "\n",
    "if oprator == '+':\n",
    "    print(a + b)\n",
    "elif oprator == '-':\n",
    "    print(a - b)\n",
    "elif oprator == '*':\n",
    "    print(a * b)\n",
    "elif oprator == '/':\n",
    "    if b != 0:\n",
    "        print(a / b)\n",
    "    else:\n",
    "        print(\"Error: Division by zero error\")\n",
    "else:\n",
    "    print(\"invalid operation\")\n",
    "    \n",
    "\n",
    "    \n"
   ]
  },
  {
   "cell_type": "code",
   "execution_count": 25,
   "metadata": {},
   "outputs": [
    {
     "ename": "ValueError",
     "evalue": "not enough values to unpack (expected 3, got 1)",
     "output_type": "error",
     "traceback": [
      "\u001b[0;31m---------------------------------------------------------------------------\u001b[0m",
      "\u001b[0;31mValueError\u001b[0m                                Traceback (most recent call last)",
      "Cell \u001b[0;32mIn[25], line 3\u001b[0m\n\u001b[1;32m      1\u001b[0m \u001b[38;5;66;03m# Input: \"1 2 3\"\u001b[39;00m\n\u001b[1;32m      2\u001b[0m data \u001b[38;5;241m=\u001b[39m \u001b[38;5;28minput\u001b[39m(\u001b[38;5;124m\"\u001b[39m\u001b[38;5;124mEnter three numbers separated by spaces: \u001b[39m\u001b[38;5;124m\"\u001b[39m)\u001b[38;5;241m.\u001b[39msplit()\n\u001b[0;32m----> 3\u001b[0m a, b, c \u001b[38;5;241m=\u001b[39m \u001b[38;5;28mmap\u001b[39m(\u001b[38;5;28mstr\u001b[39m, data)  \u001b[38;5;66;03m# Unpack the list into three variables\u001b[39;00m\n\u001b[1;32m      4\u001b[0m a \u001b[38;5;241m=\u001b[39m \u001b[38;5;28mfloat\u001b[39m(a)\n\u001b[1;32m      5\u001b[0m c \u001b[38;5;241m=\u001b[39m \u001b[38;5;28mfloat\u001b[39m(c)\n",
      "\u001b[0;31mValueError\u001b[0m: not enough values to unpack (expected 3, got 1)"
     ]
    }
   ],
   "source": [
    "# Input: \"1 2 3\"\n",
    "data = input(\"Enter three numbers separated by spaces: \").split()\n",
    "a, b, c = map(str, data)  # Unpack the list into three variables\n",
    "a = float(a)\n",
    "c = float(c)\n",
    "if b == \"+\":\n",
    "    print(a + c)\n",
    "elif b == \"-\":\n",
    "    print(a - c)\n",
    "elif b == \"*\":\n",
    "    print(a * c)\n",
    "elif b == \"/\":\n",
    "    if c != 0:\n",
    "        print(a / c)\n",
    "    else:\n",
    "        print(\"Devision by Zero Error\")\n",
    "else:\n",
    "    print(\"Invalid operation.\")\n",
    "\n"
   ]
  },
  {
   "cell_type": "code",
   "execution_count": 27,
   "metadata": {},
   "outputs": [
    {
     "data": {
      "text/plain": [
       "{'peak': {'price': 170, 'quantity': 190},\n",
       " 'klin22': {'price': 50, 'quantity': 320},\n",
       " 'IRS': {'price': 950, 'quantity': 30},\n",
       " 'bread': {'price': 1400, 'quantity': 9}}"
      ]
     },
     "execution_count": 27,
     "metadata": {},
     "output_type": "execute_result"
    }
   ],
   "source": [
    "inventory = {\n",
    "    'peak': {'price': 170, 'quantity': 190},\n",
    "    'klin22': {'price': 50, 'quantity': 320},\n",
    "    'IRS': {'price': 950, 'quantity': 30},\n",
    "}\n",
    "\n",
    "def add_item(item_name, price, quantity):\n",
    "    if item_name in inventory:\n",
    "        print(f\"{item_name} is already in inventory.\")\n",
    "    else:\n",
    "        inventory[item_name] = {'price': price, 'quantity': quantity}\n",
    "\n",
    "add_item('bread', 1400, 9)\n",
    "\n",
    "inventory"
   ]
  },
  {
   "cell_type": "code",
   "execution_count": 28,
   "metadata": {},
   "outputs": [
    {
     "name": "stdout",
     "output_type": "stream",
     "text": [
      "peak is already in inventory.\n"
     ]
    },
    {
     "data": {
      "text/plain": [
       "{'peak': {'price': 170, 'quantity': 190},\n",
       " 'klin22': {'price': 50, 'quantity': 320},\n",
       " 'IRS': {'price': 950, 'quantity': 30},\n",
       " 'bread': {'price': 1400, 'quantity': 9}}"
      ]
     },
     "execution_count": 28,
     "metadata": {},
     "output_type": "execute_result"
    }
   ],
   "source": [
    "# add_item('viva80', 180, 100)\n",
    "add_item('peak', 180, 100)\n",
    "inventory"
   ]
  },
  {
   "cell_type": "code",
   "execution_count": 5,
   "metadata": {},
   "outputs": [
    {
     "name": "stdout",
     "output_type": "stream",
     "text": [
      "peak removed from the inventory\n"
     ]
    }
   ],
   "source": [
    "def remove_item(item_name):\n",
    "    if item_name in inventory:\n",
    "        del inventory[item_name]\n",
    "        print(f\"{item_name} removed from the inventory\")\n",
    "    else:\n",
    "        print(f\"{item_name} not founf in inventory.\")\n",
    "\n",
    "remove_item('peak')"
   ]
  },
  {
   "cell_type": "code",
   "execution_count": 6,
   "metadata": {},
   "outputs": [
    {
     "data": {
      "text/plain": [
       "{'klin22': {'price': 50, 'quantity': 320},\n",
       " 'IRS': {'price': 950, 'quantity': 30}}"
      ]
     },
     "execution_count": 6,
     "metadata": {},
     "output_type": "execute_result"
    }
   ],
   "source": [
    "inventory"
   ]
  },
  {
   "cell_type": "code",
   "execution_count": 25,
   "metadata": {},
   "outputs": [
    {
     "name": "stdout",
     "output_type": "stream",
     "text": [
      "IRS updated successfully\n"
     ]
    }
   ],
   "source": [
    "def update_item(item_name, price=None, quantity=None):\n",
    "    if item_name in inventory:\n",
    "        if quantity is not None:\n",
    "            inventory[item_name]['quantity'] = quantity\n",
    "        if price is not None:\n",
    "            inventory[item_name]['price'] = price\n",
    "        print(f\"{item_name} updated successfully\")\n",
    "    else:\n",
    "        print(f\"{item_name} not found\")\n",
    "\n",
    "\n",
    "update_item('IRS', 900, None)"
   ]
  },
  {
   "cell_type": "code",
   "execution_count": 26,
   "metadata": {},
   "outputs": [
    {
     "data": {
      "text/plain": [
       "{'klin22': {'price': 50, 'quantity': 340},\n",
       " 'IRS': {'price': 900, 'quantity': 30}}"
      ]
     },
     "execution_count": 26,
     "metadata": {},
     "output_type": "execute_result"
    }
   ],
   "source": [
    "inventory"
   ]
  },
  {
   "cell_type": "code",
   "execution_count": 61,
   "metadata": {},
   "outputs": [
    {
     "name": "stdout",
     "output_type": "stream",
     "text": [
      "\tHAFNA STORE AND SERVICES\n",
      "ADDRESS: Rijiyar Abba Tashi, Turba \n",
      "\n",
      "Name: Nazifi                 Ref: 2024-12-03 11:56:14.266838\n",
      "Item    Qty   Price    Total\n",
      "----------------------------------------\n",
      "klin22    3   50   150\n",
      "peak    2   170   340\n",
      "we only have 0 IRS\n",
      "we only have 1 bread\n",
      "----------------------------------------\n",
      "Total Amount: 490\n"
     ]
    }
   ],
   "source": [
    "import datetime\n",
    "current_time = datetime.datetime.now()\n",
    "def generate_bill(purchased__items, name='Customer'):\n",
    "    total = 0\n",
    "    print(\"\\tHAFNA STORE AND SERVICES\")\n",
    "    print(\"ADDRESS: Rijiyar Abba Tashi, Turba \\n\" )\n",
    "    print(f\"Name: {name}                 Ref: {current_time}\")\n",
    "\n",
    "    print(\"Item    Qty   Price    Total\")\n",
    "    print('-' * 40)\n",
    "    for item, quantity in purchased__items.items():\n",
    "        if item in inventory and inventory[item]['quantity'] >= quantity:\n",
    "            unit_price = inventory[item]['price']\n",
    "            price = inventory[item]['price'] * quantity\n",
    "            total += price\n",
    "            inventory[item]['quantity'] -= quantity\n",
    "            print(f\"{item}    {quantity}   {unit_price}   {price}\")\n",
    "        elif inventory[item]['quantity'] < quantity:\n",
    "            print(f\"we only have {inventory[item][\"quantity\"]} {item}\")\n",
    "        elif inventory[item]['quantity'] == 0:\n",
    "            print(f\"we don't have {item}\")\n",
    "    print('-' * 40)\n",
    "    print(f\"Total Amount: {total}\")\n",
    "\n",
    "generate_bill({'klin22': 3, 'peak': 2, 'IRS': 3, 'bread': 2}, 'Nazifi')\n"
   ]
  },
  {
   "cell_type": "code",
   "execution_count": 58,
   "metadata": {},
   "outputs": [
    {
     "data": {
      "text/plain": [
       "{'peak': {'price': 170, 'quantity': 160},\n",
       " 'klin22': {'price': 50, 'quantity': 269},\n",
       " 'IRS': {'price': 950, 'quantity': 0},\n",
       " 'bread': {'price': 1400, 'quantity': 1}}"
      ]
     },
     "execution_count": 58,
     "metadata": {},
     "output_type": "execute_result"
    }
   ],
   "source": [
    "inventory"
   ]
  },
  {
   "cell_type": "code",
   "execution_count": 8,
   "metadata": {},
   "outputs": [
    {
     "name": "stdout",
     "output_type": "stream",
     "text": [
      "Welcome to the Quiz Game!\n",
      "\n",
      "Answer the following questions by typing the correct letter (A, B, C, or D):\n",
      "\n",
      "Q3. Multiplication:  2 x 25\n",
      "A. 3\n",
      "B. 7\n",
      "C. 50\n",
      "wrong! the correct is C\n",
      "\n",
      "Q4. Division:  20 / 4\n",
      "A. 4\n",
      "B. 5\n",
      "C. 6\n",
      "wrong! the correct is B\n",
      "\n",
      "Q2. Subtraction:  22 - 5\n",
      "A. -3\n",
      "B. 17\n",
      "C. 6\n",
      "wrong! the correct is B\n",
      "\n",
      "Q1. Addition:  29 + 5\n",
      "A. 34\n",
      "B. 7\n",
      "C. 6\n",
      "Correct!\n",
      "\n",
      "Quiz completed. Your final score is 1/4\n",
      "Fail\n"
     ]
    }
   ],
   "source": [
    "import random\n",
    "import sys\n",
    "questions_str = [\n",
    "    {\n",
    "        'question': 'Q1. Addition:  29 + 5',\n",
    "        'chioces': ['A. 34', 'B. 7', 'C. 6'],\n",
    "        'correct_answer': 'A'\n",
    "    },\n",
    "    {\n",
    "        'question': 'Q2. Subtraction:  22 - 5',\n",
    "        'chioces': ['A. -3', 'B. 17', 'C. 6'],\n",
    "        'correct_answer': 'B'\n",
    "    },\n",
    "    {\n",
    "        'question': 'Q3. Multiplication:  2 x 25',\n",
    "        'chioces': ['A. 3', 'B. 7', 'C. 50'],\n",
    "        'correct_answer': 'C'\n",
    "    },\n",
    "    {\n",
    "        'question': 'Q4. Division:  20 / 4',\n",
    "        'chioces': ['A. 4', 'B. 5', 'C. 6'],\n",
    "        'correct_answer': 'B'\n",
    "    },\n",
    "]\n",
    "\n",
    "def quiz():\n",
    "    score = 0\n",
    "    random.shuffle(questions_str)\n",
    "\n",
    "    print(\"Welcome to the Quiz Game!\\n\")\n",
    "    print(\"Answer the following questions by typing the correct letter (A, B, C, or D):\\n\")\n",
    "    for question in questions_str:\n",
    "        print(question['question'])\n",
    "        for chioce in question['chioces']:\n",
    "            print(chioce)\n",
    "        user_answer = input('Enter your answer here:').strip().upper()\n",
    "        if user_answer == question['correct_answer']:\n",
    "            print('Correct!\\n')\n",
    "            score += 1\n",
    "        else:\n",
    "            print(f'wrong! the correct is {question[\"correct_answer\"]}\\n')\n",
    "            \n",
    "    print(f'Quiz completed. Your final score is {score}/{len(questions_str)}')\n",
    "    if score <= len(questions_str)/2:\n",
    "        print(f'Fail')\n",
    "    else:\n",
    "        print('Pass')\n",
    "\n",
    "quiz()\n",
    "sys.stdout.flush()"
   ]
  },
  {
   "cell_type": "code",
   "execution_count": null,
   "metadata": {},
   "outputs": [],
   "source": []
  },
  {
   "cell_type": "code",
   "execution_count": null,
   "metadata": {},
   "outputs": [],
   "source": []
  }
 ],
 "metadata": {
  "kernelspec": {
   "display_name": "Python 3",
   "language": "python",
   "name": "python3"
  },
  "language_info": {
   "codemirror_mode": {
    "name": "ipython",
    "version": 3
   },
   "file_extension": ".py",
   "mimetype": "text/x-python",
   "name": "python",
   "nbconvert_exporter": "python",
   "pygments_lexer": "ipython3",
   "version": "3.10.12"
  }
 },
 "nbformat": 4,
 "nbformat_minor": 2
}
