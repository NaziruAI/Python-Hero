{
 "cells": [
  {
   "cell_type": "code",
   "execution_count": 4,
   "metadata": {},
   "outputs": [
    {
     "name": "stdout",
     "output_type": "stream",
     "text": [
      "Welcome to the Quiz Game!\n",
      "\n",
      "Answer the following questions by typing the correct letter (A, B, C, or D):\n",
      "\n",
      "who is governor of Kano state?\n",
      "A. Barau\n",
      "B. Ganduje\n",
      "C. Abba\n",
      "D. Dan tsinke\n",
      "Wrong! The correct answer is C.\n",
      "\n",
      "what is the name of your local government?\n",
      "A. Gwale\n",
      "B. Dala\n",
      "C. Nasarawa\n",
      "D. Bichi\n",
      "Correct!\n",
      "\n",
      "What is the capital of Nigeria?\n",
      "A. Lagos\n",
      "B. Abuja\n",
      "C. Kano\n",
      "D. Ibadan\n",
      "Correct!\n",
      "\n",
      "Quiz completed! Your final score is 2/3.\n"
     ]
    }
   ],
   "source": [
    "import sys\n",
    "import random\n",
    "\n",
    "quiz_questions = [\n",
    "    {\n",
    "        \"question\": \"What is the capital of Nigeria?\",\n",
    "        \"choices\": [\"A. Lagos\", \"B. Abuja\", \"C. Kano\", \"D. Ibadan\"],\n",
    "        \"correct\": \"B\"\n",
    "    },\n",
    "    {\n",
    "        \"question\": \"who is governor of Kano state?\",\n",
    "        \"choices\": [\"A. Barau\", \"B. Ganduje\", \"C. Abba\", \"D. Dan tsinke\"],\n",
    "        \"correct\": \"C\"\n",
    "    },\n",
    "    {\n",
    "        \"question\": \"what is the name of your local government?\",\n",
    "        \"choices\": [\"A. Gwale\", \"B. Dala\", \"C. Nasarawa\", \"D. Bichi\"],\n",
    "        \"correct\": \"A\"\n",
    "    }\n",
    "]\n",
    "\n",
    "\n",
    "\n",
    "\n",
    "def quiz_game():\n",
    "    score = 0  # To keep track of the score\n",
    "\n",
    "    random.shuffle(quiz_questions)\n",
    "\n",
    "    print(\"Welcome to the Quiz Game!\\n\")\n",
    "    print(\"Answer the following questions by typing the correct letter (A, B, C, or D):\\n\")\n",
    "\n",
    "    for question in quiz_questions:\n",
    "        print(question[\"question\"])\n",
    "        for choice in question[\"choices\"]:\n",
    "            print(choice)\n",
    "        user_answer = input(\"\\nYour answer: \").strip().upper()\n",
    "\n",
    "        if user_answer == question[\"correct\"]:\n",
    "            print(\"Correct!\\n\")\n",
    "            score += 1\n",
    "        else:\n",
    "            print(f\"Wrong! The correct answer is {question['correct']}.\\n\")\n",
    "\n",
    "    print(f\"Quiz completed! Your final score is {score}/{len(quiz_questions)}.\")\n",
    "\n",
    "if __name__ == \"__main__\":\n",
    "    quiz_game()\n",
    "\n",
    "sys.stdout.flush()\n"
   ]
  },
  {
   "cell_type": "code",
   "execution_count": null,
   "metadata": {},
   "outputs": [],
   "source": []
  }
 ],
 "metadata": {
  "kernelspec": {
   "display_name": "base",
   "language": "python",
   "name": "python3"
  },
  "language_info": {
   "codemirror_mode": {
    "name": "ipython",
    "version": 3
   },
   "file_extension": ".py",
   "mimetype": "text/x-python",
   "name": "python",
   "nbconvert_exporter": "python",
   "pygments_lexer": "ipython3",
   "version": "3.12.3"
  }
 },
 "nbformat": 4,
 "nbformat_minor": 2
}
