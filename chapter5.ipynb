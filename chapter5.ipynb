{
 "cells": [
  {
   "cell_type": "code",
   "execution_count": null,
   "metadata": {},
   "outputs": [
    {
     "name": "stdout",
     "output_type": "stream",
     "text": [
      "Is car == 'subaru'? I predict True.\n",
      "True\n",
      "\n",
      "Is car == 'audi'? I predict False.\n",
      "False\n"
     ]
    }
   ],
   "source": [
    "# 5.1 Conditional Tests\n",
    "car = 'subaru'\n",
    "print(\"Is car == 'subaru'? I predict True.\")\n",
    "print(car == 'subaru')\n",
    "print(\"\\nIs car == 'audi'? I predict False.\")\n",
    "print(car == 'audi')"
   ]
  },
  {
   "cell_type": "code",
   "execution_count": 9,
   "metadata": {},
   "outputs": [
    {
     "name": "stdout",
     "output_type": "stream",
     "text": [
      "True\n",
      "False\n",
      "True\n",
      "False\n",
      "True\n",
      "False\n",
      "False\n",
      "True\n",
      "False\n",
      "True\n"
     ]
    }
   ],
   "source": [
    "a = 0\n",
    "b = '0'\n",
    "c = ''\n",
    "d = 'abc'\n",
    "e = 'a'\n",
    "print(a == 0)\n",
    "print(a == '0')\n",
    "print(b == '0')\n",
    "print(b == 0)\n",
    "print(c == '')\n",
    "print(c == 'sfgdf')\n",
    "print(d == 'sfgdf')\n",
    "print(d == 'abc')\n",
    "print(e == '')\n",
    "print(e == 'a')\n",
    "\n",
    "\n"
   ]
  },
  {
   "cell_type": "code",
   "execution_count": 16,
   "metadata": {},
   "outputs": [
    {
     "name": "stdout",
     "output_type": "stream",
     "text": [
      "True\n",
      "False\n",
      "True\n"
     ]
    }
   ],
   "source": [
    "# 5.2 More Conditional Test\n",
    "a = 'Good'\n",
    "print(a == 'Good' )\n",
    "print(a != 'Good' )\n",
    "print(a.lower() == 'good' )"
   ]
  },
  {
   "cell_type": "code",
   "execution_count": 17,
   "metadata": {},
   "outputs": [
    {
     "name": "stdout",
     "output_type": "stream",
     "text": [
      "True\n",
      "False\n",
      "False\n",
      "False\n",
      "True\n",
      "True\n"
     ]
    }
   ],
   "source": [
    "num = 23\n",
    "print(num == 23)\n",
    "print(num != 23)\n",
    "print(num > 23)\n",
    "print(num < 23)\n",
    "print(num >= 23)\n",
    "print(num <= 23)"
   ]
  },
  {
   "cell_type": "code",
   "execution_count": 21,
   "metadata": {},
   "outputs": [
    {
     "name": "stdout",
     "output_type": "stream",
     "text": [
      "False\n",
      "True\n"
     ]
    }
   ],
   "source": [
    "x = 3\n",
    "y = 12\n",
    "\n",
    "print(x == 3 and y == 1)\n",
    "print(x == 3 or y == 1)"
   ]
  },
  {
   "cell_type": "code",
   "execution_count": 25,
   "metadata": {},
   "outputs": [
    {
     "name": "stdout",
     "output_type": "stream",
     "text": [
      "True\n",
      "False\n",
      "\n",
      "True\n"
     ]
    }
   ],
   "source": [
    "values = [2, 4, 5, 21, 54, 6]\n",
    "\n",
    "print(4 in values)\n",
    "print(43 in values)\n",
    "\n",
    "print()\n",
    "print(23 not in values)"
   ]
  },
  {
   "cell_type": "code",
   "execution_count": 27,
   "metadata": {},
   "outputs": [
    {
     "name": "stdout",
     "output_type": "stream",
     "text": [
      "You scored 5 points\n"
     ]
    }
   ],
   "source": [
    "# 5.3 Alien color\n",
    "alien_color = 'green'\n",
    "if alien_color == 'green':\n",
    "    print('You scored 5 points')\n"
   ]
  },
  {
   "cell_type": "code",
   "execution_count": null,
   "metadata": {},
   "outputs": [
    {
     "name": "stdout",
     "output_type": "stream",
     "text": [
      "You scored 5 points\n"
     ]
    }
   ],
   "source": [
    "alien_color = 'green'\n",
    "if alien_color == 'green':\n",
    "    print('You scored 5 points')\n",
    "if alien_color != 'green':\n",
    "    print('You scored 0 point')"
   ]
  },
  {
   "cell_type": "code",
   "execution_count": 30,
   "metadata": {},
   "outputs": [
    {
     "name": "stdout",
     "output_type": "stream",
     "text": [
      "you earned 5 points\n",
      "you earned 5 points\n"
     ]
    }
   ],
   "source": [
    "# 5.4 Alien Color #2\n",
    "\n",
    "alien_color = 'Yellow'\n",
    "\n",
    "if alien_color == 'Yellow':\n",
    "    print('you earned 5 points')\n",
    "\n",
    "if alien_color != 'Yellow':\n",
    "    print('you earned 10 points')\n",
    "\n",
    "if alien_color.lower() == 'yellow':\n",
    "    print('you earned 5 points')\n",
    "else:\n",
    "    print('you earned 10 points')"
   ]
  },
  {
   "cell_type": "code",
   "execution_count": 34,
   "metadata": {},
   "outputs": [
    {
     "name": "stdout",
     "output_type": "stream",
     "text": [
      "you earned 5 points\n",
      "you earned 10 points\n",
      "you earned 15 points\n"
     ]
    }
   ],
   "source": [
    "# 5-5. Alien Colors #3:\n",
    "alien_color = 'green'\n",
    "\n",
    "if alien_color == 'green':\n",
    "    print('you earned 5 points')\n",
    "elif alien_color == 'yellow':\n",
    "    print('you earned 10 points')\n",
    "else:\n",
    "    print('you earned 15 points')\n",
    "\n",
    "alien_color = 'yellow'\n",
    "\n",
    "if alien_color == 'green':\n",
    "    print('you earned 5 points')\n",
    "elif alien_color == 'yellow':\n",
    "    print('you earned 10 points')\n",
    "else:\n",
    "    print('you earned 15 points')\n",
    "\n",
    "\n",
    "alien_color = 'red'\n",
    "\n",
    "if alien_color == 'green':\n",
    "    print('you earned 5 points')\n",
    "elif alien_color == 'yellow':\n",
    "    print('you earned 10 points')\n",
    "else:\n",
    "    print('you earned 15 points')"
   ]
  },
  {
   "cell_type": "code",
   "execution_count": 35,
   "metadata": {},
   "outputs": [
    {
     "name": "stdout",
     "output_type": "stream",
     "text": [
      "you are an adult\n"
     ]
    }
   ],
   "source": [
    "# 5.6 Stages of Life\n",
    "\n",
    "age = 20\n",
    "if age < 2:\n",
    "    print('you are a baby')\n",
    "elif age < 4:\n",
    "    print('you are a toddler')\n",
    "elif age < 13:\n",
    "    print('you are a kid')\n",
    "elif age < 20:\n",
    "    print('you are an teenager')\n",
    "elif age < 65:\n",
    "    print('you are an adult')\n",
    "elif age >= 65:\n",
    "    print('you are an elder')\n",
    "\n"
   ]
  },
  {
   "cell_type": "code",
   "execution_count": 43,
   "metadata": {},
   "outputs": [
    {
     "name": "stdout",
     "output_type": "stream",
     "text": [
      "I really like pineapple!\n",
      "I really like watermilon!\n",
      "I really like orange\n"
     ]
    }
   ],
   "source": [
    "# 5,7 Favorite Fruit\n",
    "fruits = ['mango', 'apple', 'banana', 'orange']\n",
    "\n",
    "if fruits == 'mango':\n",
    "    print('I love mango')\n",
    "if fruits == 'apple':\n",
    "    print('I love apple')\n",
    "if fruits == 'banana':\n",
    "    print('I love banana')\n",
    "if fruits == 'orange':\n",
    "    print('I love orange')\n",
    "\n",
    "\n",
    "faborite_fruits = ['pineapple', 'watermilon', 'orange']\n",
    "\n",
    "if 'pineapple' in faborite_fruits:\n",
    "    print('I really like pineapple!')\n",
    "if 'watermilon' in faborite_fruits:\n",
    "    print('I really like watermilon!')\n",
    "if 'orange' in faborite_fruits:\n",
    "    print('I really like orange')\n",
    "if 'apple' in faborite_fruits:\n",
    "    print('I really like apple')\n",
    "if 'mango' in faborite_fruits:\n",
    "    print('I really like mango')\n",
    "\n",
    "\n",
    "\n"
   ]
  },
  {
   "cell_type": "code",
   "execution_count": 15,
   "metadata": {},
   "outputs": [
    {
     "name": "stdout",
     "output_type": "stream",
     "text": [
      "Hello Isa thank you for logging in again.\n",
      "Hello Daha thank you for logging in again.\n",
      "Hello Admin, would you like to see a status report?\n",
      "Hello John thank you for logging in again.\n",
      "Hello Hafsa thank you for logging in again.\n"
     ]
    }
   ],
   "source": [
    "# 5.8 Hello Admin \n",
    "names = ['isa', 'daha', 'admin', 'john', 'hafsa']\n",
    "\n",
    "for name in names:\n",
    "    if name != 'admin':\n",
    "        print('Hello ' + name.title() + ' thank you for logging in again.')\n",
    "    else:\n",
    "        print('Hello ' + name.title() + ',' +\n",
    "' would you like to see a status report?')"
   ]
  },
  {
   "cell_type": "code",
   "execution_count": 16,
   "metadata": {},
   "outputs": [
    {
     "name": "stdout",
     "output_type": "stream",
     "text": [
      "['isa', 'daha', 'admin', 'john', 'hafsa']\n",
      "['isa', 'daha', 'admin', 'john', 'hafsa']\n",
      "['isa', 'daha', 'admin', 'john', 'hafsa']\n",
      "['isa', 'daha', 'admin', 'john', 'hafsa']\n",
      "['isa', 'daha', 'admin', 'john', 'hafsa']\n"
     ]
    }
   ],
   "source": [
    "# 5.9 No Users \n",
    "\n",
    "if names:\n",
    "    for name in names:\n",
    "        print(names)\n",
    "else:\n",
    "    print('we need to find some users!')"
   ]
  },
  {
   "cell_type": "code",
   "execution_count": 17,
   "metadata": {},
   "outputs": [
    {
     "name": "stdout",
     "output_type": "stream",
     "text": [
      "[]\n"
     ]
    }
   ],
   "source": [
    "del names[:]\n",
    "print(names)"
   ]
  },
  {
   "cell_type": "code",
   "execution_count": 3,
   "metadata": {},
   "outputs": [
    {
     "name": "stdout",
     "output_type": "stream",
     "text": [
      "the username is available!\n",
      "Please enter new username\n",
      "the username is available!\n",
      "the username is available!\n",
      "Please enter new username\n"
     ]
    }
   ],
   "source": [
    "5.10 \n",
    "current_users = ['sani', 'yusuf', 'idris', 'faiz', 'khadija']\n",
    "new_users = ['hafsa', 'yusuf', 'inuwa', 'khalifa', 'Khadija']\n",
    "\n",
    "for new_user in new_users:\n",
    "    if new_user.lower() in current_users:\n",
    "        print('Please enter new username')\n",
    "    else:\n",
    "        print('the username is available!')"
   ]
  },
  {
   "cell_type": "code",
   "execution_count": 2,
   "metadata": {},
   "outputs": [
    {
     "name": "stdout",
     "output_type": "stream",
     "text": [
      "1st\n",
      "2nd\n",
      "3rd\n",
      "4th\n",
      "5th\n",
      "6th\n",
      "7th\n",
      "8th\n",
      "9th\n"
     ]
    }
   ],
   "source": [
    "# 5.11 Ordinal Numbers\n",
    "\n",
    "numbers = [1, 2, 3, 4, 5, 6, 7, 8, 9]\n",
    "for num in numbers:\n",
    "    if num == 1:\n",
    "        print(str(num) + 'st')\n",
    "    elif num == 2:\n",
    "        print(str(num) + 'nd')\n",
    "    elif num == 3:\n",
    "        print(str(num) + 'rd')\n",
    "    else:\n",
    "        print(str(num) + 'th')\n",
    "\n",
    "\n",
    "\n"
   ]
  },
  {
   "cell_type": "code",
   "execution_count": 10,
   "metadata": {},
   "outputs": [
    {
     "name": "stdout",
     "output_type": "stream",
     "text": [
      "Weird\n"
     ]
    }
   ],
   "source": [
    "n = 6\n",
    "if n % 2 != 0:\n",
    "    print('Weird')\n",
    "elif n % 2 == 0 and n <= 5:\n",
    "    print('Not Weird')\n",
    "elif n % 2 == 0 and n <= 20:\n",
    "    print('Weird')\n",
    "elif n % 2 == 0 and n > 20:\n",
    "    print('Not Weird')\n"
   ]
  },
  {
   "cell_type": "code",
   "execution_count": null,
   "metadata": {},
   "outputs": [],
   "source": []
  },
  {
   "cell_type": "code",
   "execution_count": null,
   "metadata": {},
   "outputs": [],
   "source": []
  }
 ],
 "metadata": {
  "kernelspec": {
   "display_name": "Python 3",
   "language": "python",
   "name": "python3"
  },
  "language_info": {
   "codemirror_mode": {
    "name": "ipython",
    "version": 3
   },
   "file_extension": ".py",
   "mimetype": "text/x-python",
   "name": "python",
   "nbconvert_exporter": "python",
   "pygments_lexer": "ipython3",
   "version": "3.10.12"
  }
 },
 "nbformat": 4,
 "nbformat_minor": 2
}
