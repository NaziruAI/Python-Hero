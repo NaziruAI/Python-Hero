{
 "cells": [
  {
   "cell_type": "code",
   "execution_count": 2,
   "metadata": {},
   "outputs": [
    {
     "name": "stdout",
     "output_type": "stream",
     "text": [
      "Muhd\n",
      "Nasir\n",
      "Idris\n"
     ]
    }
   ],
   "source": [
    "# 3.1 Names\n",
    "\n",
    "names = ['Muhd', 'Nasir', 'Idris']\n",
    "\n",
    "print(names[0])\n",
    "print(names[1])\n",
    "print(names[2])"
   ]
  },
  {
   "cell_type": "code",
   "execution_count": 6,
   "metadata": {},
   "outputs": [
    {
     "name": "stdout",
     "output_type": "stream",
     "text": [
      "Hello, good morning, Muhd\n",
      "Hello, good morning, Nasir\n",
      "Hello, good morning, Nasir\n"
     ]
    }
   ],
   "source": [
    "# 3.2 Greetings\n",
    "\n",
    "print('Hello, good morning' + ', ' + names[0] )\n",
    "print('Hello, good morning' + ', ' + names[1] )\n",
    "print('Hello, good morning' + ', ' + names[1] )"
   ]
  },
  {
   "cell_type": "code",
   "execution_count": 12,
   "metadata": {},
   "outputs": [
    {
     "name": "stdout",
     "output_type": "stream",
     "text": [
      "my first motorcycle is Jenchen\n",
      "I want buy Lipan\n",
      "my friend has a Boxer\n",
      "Bespa is expensive than LIPAN\n"
     ]
    }
   ],
   "source": [
    "# 3.3 Your Own list\n",
    "motorcycles = ['jenchen', 'lipan', 'boxer', 'bespa']\n",
    "\n",
    "print('my first motorcycle is' + ' ' + motorcycles[0].title())\n",
    "print('I want buy' + ' ' + motorcycles[1].title())\n",
    "print('my friend has a' + ' ' + motorcycles[2].title())\n",
    "print( motorcycles[-1].title() + ' is expensive than ' + motorcycles[1].upper())"
   ]
  },
  {
   "cell_type": "code",
   "execution_count": 24,
   "metadata": {},
   "outputs": [
    {
     "name": "stdout",
     "output_type": "stream",
     "text": [
      "you are welcome, Mansur\n",
      "you are welcome, Sani\n",
      "you are welcome, Abdul\n"
     ]
    }
   ],
   "source": [
    "# 3.4 GuestList\n",
    "\n",
    "dinner_guests = ['Mansur', 'Sani', 'Abdul']\n",
    "print('you are welcome, ' + dinner_guests[0])\n",
    "print('you are welcome, ' + dinner_guests[1])\n",
    "print('you are welcome, ' + dinner_guests[-1])"
   ]
  },
  {
   "cell_type": "code",
   "execution_count": 27,
   "metadata": {},
   "outputs": [
    {
     "name": "stdout",
     "output_type": "stream",
     "text": [
      "you are welcome, Mansur\n",
      "you are welcome, Sani\n",
      "you are welcome, Abdul\n",
      "Abdul could not attend the dinner\n",
      "you are welcome, Mansur\n",
      "you are welcome, Sani\n",
      "you are welcome, Zakariyya\n"
     ]
    }
   ],
   "source": [
    "# 3.5 Changing Guest list\n",
    "\n",
    "print('you are welcome, ' + dinner_guests[0])\n",
    "print('you are welcome, ' + dinner_guests[1])\n",
    "print('you are welcome, ' + dinner_guests[-1])\n",
    "\n",
    "print(dinner_guests[-1] + ' could not attend the dinner')\n",
    "\n",
    "dinner_guests[-1] = 'Zakariyya'\n",
    "\n",
    "print('you are welcome, ' + dinner_guests[0])\n",
    "print('you are welcome, ' + dinner_guests[1])\n",
    "print('you are welcome, ' + dinner_guests[-1])\n"
   ]
  },
  {
   "cell_type": "code",
   "execution_count": 53,
   "metadata": {},
   "outputs": [
    {
     "name": "stdout",
     "output_type": "stream",
     "text": [
      "you are welcome, Yusuf\n",
      "you are welcome, Hafsat\n",
      "you are welcome, Taslim\n",
      "More dinner table fpund, lets invite 3 more people\n",
      "you are welcome, Yusuf\n",
      "you are welcome, Yusuf\n",
      "you are welcome, Hafsat\n",
      "you are welcome, Hafsat\n",
      "you are welcome, Hafsat\n",
      "you are welcome, Taslim\n"
     ]
    }
   ],
   "source": [
    "# 3.6 More guests\n",
    "print('you are welcome, ' + dinner_guests[0])\n",
    "print('you are welcome, ' + dinner_guests[1])\n",
    "print('you are welcome, ' + dinner_guests[-1])\n",
    "\n",
    "print('More dinner table fpund, lets invite 3 more people')\n",
    "\n",
    "dinner_guests.insert(0, 'Yusuf')\n",
    "dinner_guests.insert(2, 'Hafsat')\n",
    "dinner_guests.append('Taslim')\n",
    "\n",
    "print('you are welcome, ' + dinner_guests[0])\n",
    "print('you are welcome, ' + dinner_guests[1])\n",
    "print('you are welcome, ' + dinner_guests[2])\n",
    "print('you are welcome, ' + dinner_guests[3])\n",
    "print('you are welcome, ' + dinner_guests[4])\n",
    "print('you are welcome, ' + dinner_guests[-1])\n",
    "\n"
   ]
  },
  {
   "cell_type": "code",
   "execution_count": 85,
   "metadata": {},
   "outputs": [
    {
     "name": "stdout",
     "output_type": "stream",
     "text": [
      "you are welcome, Yusuf\n",
      "you are welcome, Yusuf\n",
      "you are welcome, Hafsat\n",
      "you are welcome, Hafsat\n"
     ]
    },
    {
     "ename": "IndexError",
     "evalue": "list index out of range",
     "output_type": "error",
     "traceback": [
      "\u001b[0;31m---------------------------------------------------------------------------\u001b[0m",
      "\u001b[0;31mIndexError\u001b[0m                                Traceback (most recent call last)",
      "Cell \u001b[0;32mIn[85], line 7\u001b[0m\n\u001b[1;32m      5\u001b[0m \u001b[38;5;28mprint\u001b[39m(\u001b[38;5;124m'\u001b[39m\u001b[38;5;124myou are welcome, \u001b[39m\u001b[38;5;124m'\u001b[39m \u001b[38;5;241m+\u001b[39m dinner_guests[\u001b[38;5;241m2\u001b[39m])\n\u001b[1;32m      6\u001b[0m \u001b[38;5;28mprint\u001b[39m(\u001b[38;5;124m'\u001b[39m\u001b[38;5;124myou are welcome, \u001b[39m\u001b[38;5;124m'\u001b[39m \u001b[38;5;241m+\u001b[39m dinner_guests[\u001b[38;5;241m3\u001b[39m])\n\u001b[0;32m----> 7\u001b[0m \u001b[38;5;28mprint\u001b[39m(\u001b[38;5;124m'\u001b[39m\u001b[38;5;124myou are welcome, \u001b[39m\u001b[38;5;124m'\u001b[39m \u001b[38;5;241m+\u001b[39m \u001b[43mdinner_guests\u001b[49m\u001b[43m[\u001b[49m\u001b[38;5;241;43m4\u001b[39;49m\u001b[43m]\u001b[49m)\n\u001b[1;32m      8\u001b[0m \u001b[38;5;28mprint\u001b[39m(\u001b[38;5;124m'\u001b[39m\u001b[38;5;124myou are welcome, \u001b[39m\u001b[38;5;124m'\u001b[39m \u001b[38;5;241m+\u001b[39m dinner_guests[\u001b[38;5;241m5\u001b[39m])\n\u001b[1;32m     11\u001b[0m \u001b[38;5;28mprint\u001b[39m(\u001b[38;5;124m'\u001b[39m\u001b[38;5;124msorry I can invite only two guests\u001b[39m\u001b[38;5;124m'\u001b[39m)\n",
      "\u001b[0;31mIndexError\u001b[0m: list index out of range"
     ]
    }
   ],
   "source": [
    "# 3.7 Shrinking GuestList\n",
    "\n",
    "print('you are welcome, ' + dinner_guests[0])\n",
    "print('you are welcome, ' + dinner_guests[1])\n",
    "print('you are welcome, ' + dinner_guests[2])\n",
    "print('you are welcome, ' + dinner_guests[3])\n",
    "print('you are welcome, ' + dinner_guests[4])\n",
    "print('you are welcome, ' + dinner_guests[5])\n",
    "\n",
    "\n",
    "print('sorry I can invite only two guests')\n",
    "not_invited = dinner_guests.pop(0)\n",
    "print(not_invited + \" Sorry I can't invite you to the dinner\")\n",
    "\n",
    "\n",
    "\n",
    "print(len(dinner_guests))"
   ]
  },
  {
   "cell_type": "code",
   "execution_count": null,
   "metadata": {},
   "outputs": [],
   "source": []
  },
  {
   "cell_type": "code",
   "execution_count": 89,
   "metadata": {},
   "outputs": [
    {
     "name": "stdout",
     "output_type": "stream",
     "text": [
      "['Yusuf', 'Yusuf', 'Hafsat']\n",
      "Hafsat Sorry I can't invite you to the dinner\n",
      "['Yusuf', 'Yusuf']\n"
     ]
    }
   ],
   "source": [
    "print(dinner_guests)\n",
    "guest = dinner_guests.pop()\n",
    "print(guest + \" Sorry I can't invite you to the dinner\")\n",
    "\n",
    "print(dinner_guests)\n"
   ]
  },
  {
   "cell_type": "code",
   "execution_count": 90,
   "metadata": {},
   "outputs": [
    {
     "name": "stdout",
     "output_type": "stream",
     "text": [
      "Yusuf\n",
      "Nasir\n"
     ]
    }
   ],
   "source": [
    "dinner_guests[1] = 'Nasir'\n",
    "print(dinner_guests[0])\n",
    "print(dinner_guests[1])"
   ]
  },
  {
   "cell_type": "code",
   "execution_count": 94,
   "metadata": {},
   "outputs": [
    {
     "ename": "IndexError",
     "evalue": "list assignment index out of range",
     "output_type": "error",
     "traceback": [
      "\u001b[0;31m---------------------------------------------------------------------------\u001b[0m",
      "\u001b[0;31mIndexError\u001b[0m                                Traceback (most recent call last)",
      "Cell \u001b[0;32mIn[94], line 1\u001b[0m\n\u001b[0;32m----> 1\u001b[0m \u001b[38;5;28;01mdel\u001b[39;00m \u001b[43mdinner_guests\u001b[49m\u001b[43m[\u001b[49m\u001b[38;5;241;43m0\u001b[39;49m\u001b[43m]\u001b[49m\n\u001b[1;32m      3\u001b[0m \u001b[38;5;28;01mdel\u001b[39;00m dinner_guests[\u001b[38;5;241m1\u001b[39m]\n",
      "\u001b[0;31mIndexError\u001b[0m: list assignment index out of range"
     ]
    }
   ],
   "source": [
    "del dinner_guests[0]\n",
    "\n",
    "del dinner_guests[1]"
   ]
  },
  {
   "cell_type": "code",
   "execution_count": 96,
   "metadata": {},
   "outputs": [
    {
     "name": "stdout",
     "output_type": "stream",
     "text": [
      "[]\n"
     ]
    }
   ],
   "source": [
    "print(dinner_guests)"
   ]
  },
  {
   "cell_type": "code",
   "execution_count": 97,
   "metadata": {},
   "outputs": [
    {
     "name": "stdout",
     "output_type": "stream",
     "text": [
      "['saudia', 'germany', 'ingland', 'chana', 'sauth africa']\n"
     ]
    }
   ],
   "source": [
    "# 3.8 Seeing the World\n",
    "\n",
    "places = ['saudia', 'germany', 'ingland', 'chana', 'sauth africa']\n",
    "\n",
    "print(places)"
   ]
  },
  {
   "cell_type": "code",
   "execution_count": 98,
   "metadata": {},
   "outputs": [
    {
     "name": "stdout",
     "output_type": "stream",
     "text": [
      "['chana', 'germany', 'ingland', 'saudia', 'sauth africa']\n"
     ]
    }
   ],
   "source": [
    "print(sorted(places))"
   ]
  },
  {
   "cell_type": "code",
   "execution_count": 100,
   "metadata": {},
   "outputs": [
    {
     "name": "stdout",
     "output_type": "stream",
     "text": [
      "['saudia', 'germany', 'ingland', 'chana', 'sauth africa']\n",
      "['sauth africa', 'saudia', 'ingland', 'germany', 'chana']\n"
     ]
    }
   ],
   "source": [
    "print(places)\n",
    "print(sorted(places, reverse=True))"
   ]
  },
  {
   "cell_type": "code",
   "execution_count": 101,
   "metadata": {},
   "outputs": [
    {
     "data": {
      "text/plain": [
       "['saudia', 'germany', 'ingland', 'chana', 'sauth africa']"
      ]
     },
     "execution_count": 101,
     "metadata": {},
     "output_type": "execute_result"
    }
   ],
   "source": [
    "places"
   ]
  },
  {
   "cell_type": "code",
   "execution_count": 102,
   "metadata": {},
   "outputs": [
    {
     "data": {
      "text/plain": [
       "['sauth africa', 'chana', 'ingland', 'germany', 'saudia']"
      ]
     },
     "execution_count": 102,
     "metadata": {},
     "output_type": "execute_result"
    }
   ],
   "source": [
    "places.reverse()\n",
    "places"
   ]
  },
  {
   "cell_type": "code",
   "execution_count": 105,
   "metadata": {},
   "outputs": [
    {
     "data": {
      "text/plain": [
       "['chana', 'germany', 'ingland', 'saudia', 'sauth africa']"
      ]
     },
     "execution_count": 105,
     "metadata": {},
     "output_type": "execute_result"
    }
   ],
   "source": [
    "places.sort()\n",
    "places"
   ]
  },
  {
   "cell_type": "code",
   "execution_count": 108,
   "metadata": {},
   "outputs": [
    {
     "data": {
      "text/plain": [
       "['sauth africa', 'saudia', 'ingland', 'germany', 'chana']"
      ]
     },
     "execution_count": 108,
     "metadata": {},
     "output_type": "execute_result"
    }
   ],
   "source": [
    "places.sort(reverse=True)\n",
    "places"
   ]
  },
  {
   "cell_type": "code",
   "execution_count": 109,
   "metadata": {},
   "outputs": [
    {
     "data": {
      "text/plain": [
       "[]"
      ]
     },
     "execution_count": 109,
     "metadata": {},
     "output_type": "execute_result"
    }
   ],
   "source": [
    "len(dinner_guests)\n",
    "dinner_guests"
   ]
  },
  {
   "cell_type": "code",
   "execution_count": 110,
   "metadata": {},
   "outputs": [
    {
     "data": {
      "text/plain": [
       "['Hausa', 'Arabic', 'Igbo', 'Yoroba', 'English', 'Prench']"
      ]
     },
     "execution_count": 110,
     "metadata": {},
     "output_type": "execute_result"
    }
   ],
   "source": [
    "languages = ['Hausa', 'Arabic', 'Igbo', 'Yoroba', 'English', 'Prench']\n",
    "languages"
   ]
  },
  {
   "cell_type": "code",
   "execution_count": 112,
   "metadata": {},
   "outputs": [
    {
     "data": {
      "text/plain": [
       "['Arabic', 'English', 'Hausa', 'Igbo', 'Prench', 'Yoroba']"
      ]
     },
     "execution_count": 112,
     "metadata": {},
     "output_type": "execute_result"
    }
   ],
   "source": [
    "sorted_languages = sorted(languages)\n",
    "sorted_languages"
   ]
  },
  {
   "cell_type": "code",
   "execution_count": null,
   "metadata": {},
   "outputs": [],
   "source": []
  }
 ],
 "metadata": {
  "kernelspec": {
   "display_name": "base",
   "language": "python",
   "name": "python3"
  },
  "language_info": {
   "codemirror_mode": {
    "name": "ipython",
    "version": 3
   },
   "file_extension": ".py",
   "mimetype": "text/x-python",
   "name": "python",
   "nbconvert_exporter": "python",
   "pygments_lexer": "ipython3",
   "version": "3.12.3"
  }
 },
 "nbformat": 4,
 "nbformat_minor": 2
}
