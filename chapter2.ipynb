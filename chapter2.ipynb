{
 "cells": [
  {
   "cell_type": "code",
   "execution_count": 2,
   "metadata": {},
   "outputs": [
    {
     "name": "stdout",
     "output_type": "stream",
     "text": [
      "Naziru\n"
     ]
    }
   ],
   "source": [
    "# 2.1\n",
    "my_name = 'Naziru'\n",
    "print(my_name)"
   ]
  },
  {
   "cell_type": "code",
   "execution_count": 3,
   "metadata": {},
   "outputs": [
    {
     "name": "stdout",
     "output_type": "stream",
     "text": [
      "Nazir\n"
     ]
    }
   ],
   "source": [
    "#2/2\n",
    "my_name = 'Nazir'\n",
    "print(my_name)"
   ]
  },
  {
   "cell_type": "code",
   "execution_count": 5,
   "metadata": {},
   "outputs": [
    {
     "name": "stdout",
     "output_type": "stream",
     "text": [
      "Hello Eric, would you like to learn some Python today?\n"
     ]
    }
   ],
   "source": [
    "# 2.3 personal message\n",
    "name = \"Eric\"\n",
    "print('Hello ' + name + ', ' + 'would you like to learn some Python today?')"
   ]
  },
  {
   "cell_type": "code",
   "execution_count": 7,
   "metadata": {},
   "outputs": [
    {
     "name": "stdout",
     "output_type": "stream",
     "text": [
      "eric john\n",
      "ERIC JOHN\n",
      "Eric John\n"
     ]
    }
   ],
   "source": [
    "# 2.4 Name classmethod\n",
    "\n",
    "person = 'eric john'\n",
    "print(person.lower())\n",
    "print(person.upper())\n",
    "print(person.title())"
   ]
  },
  {
   "cell_type": "code",
   "execution_count": 8,
   "metadata": {},
   "outputs": [
    {
     "name": "stdout",
     "output_type": "stream",
     "text": [
      "Albert Einstein once said \"A person never made mistake never tried anything new\"\n"
     ]
    }
   ],
   "source": [
    "# 2.5 Famous Quote\n",
    "\n",
    "print('Albert Einstein once said \"A person never made mistake never tried anything new\"')"
   ]
  },
  {
   "cell_type": "code",
   "execution_count": 17,
   "metadata": {},
   "outputs": [
    {
     "name": "stdout",
     "output_type": "stream",
     "text": [
      "Albert Einstein once said, A person who never made mistake never tried anoything new?\n"
     ]
    }
   ],
   "source": [
    "# 2.6 Fampus Quote 2\n",
    "\n",
    "famous_person = \"Albert Einstein once said\"\n",
    "message = famous_person + \", \" + \"A person who never made mistake never tried anoything new?\"\n",
    "print(message)"
   ]
  },
  {
   "cell_type": "code",
   "execution_count": 35,
   "metadata": {},
   "outputs": [
    {
     "name": "stdout",
     "output_type": "stream",
     "text": [
      " Jonson \n",
      "\t\n",
      "  Jonson\n",
      "\n",
      " Jonson \n",
      "\n",
      " Jonson\n"
     ]
    }
   ],
   "source": [
    "# 2.7 Stripping Names\n",
    "\n",
    "name = ' Jonson '\n",
    "print(name)\n",
    "print('\\t\\n', name.rstrip())\n",
    "print(\"\\n\", name.lstrip())\n",
    "print(\"\\n\",name.strip())"
   ]
  },
  {
   "cell_type": "code",
   "execution_count": 37,
   "metadata": {},
   "outputs": [
    {
     "name": "stdout",
     "output_type": "stream",
     "text": [
      "8\n",
      "8\n",
      "8\n",
      "8\n"
     ]
    }
   ],
   "source": [
    "# 2.8 Number Eight\n",
    "print(5+3)\n",
    "print(11-3)\n",
    "print(2*4)\n",
    "print(int(24/3))"
   ]
  },
  {
   "cell_type": "code",
   "execution_count": 39,
   "metadata": {},
   "outputs": [
    {
     "name": "stdout",
     "output_type": "stream",
     "text": [
      "My favorite number is 7\n"
     ]
    }
   ],
   "source": [
    "# 2.9 Favorite Number\n",
    "favorite_number = 7\n",
    "message = \"My favorite number is \" + str(favorite_number)\n",
    "print(message)"
   ]
  },
  {
   "cell_type": "code",
   "execution_count": null,
   "metadata": {},
   "outputs": [],
   "source": [
    "# 2.10 Number Eight\n",
    "\n",
    "#Addition\n",
    "print(5+3)\n",
    "#Subtraction\n",
    "print(11-3)\n",
    "#Multiplication\n",
    "print(2*4)\n",
    "#Division\n",
    "print(int(24/3)"
   ]
  }
 ],
 "metadata": {
  "kernelspec": {
   "display_name": "base",
   "language": "python",
   "name": "python3"
  },
  "language_info": {
   "codemirror_mode": {
    "name": "ipython",
    "version": 3
   },
   "file_extension": ".py",
   "mimetype": "text/x-python",
   "name": "python",
   "nbconvert_exporter": "python",
   "pygments_lexer": "ipython3",
   "version": "3.12.3"
  }
 },
 "nbformat": 4,
 "nbformat_minor": 2
}
