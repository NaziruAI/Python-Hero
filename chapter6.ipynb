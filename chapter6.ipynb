{
 "cells": [
  {
   "cell_type": "code",
   "execution_count": 15,
   "metadata": {},
   "outputs": [
    {
     "name": "stdout",
     "output_type": "stream",
     "text": [
      "First Name: Isah\n",
      "Last Name: Musa\n",
      "Age: 32\n",
      "City: Kano\n"
     ]
    }
   ],
   "source": [
    "# 6.1 Person \n",
    "\n",
    "person = {'first_name': 'isah', 'last_name': 'musa', 'age': 32, 'city': 'kano'}\n",
    "print(\"First Name: \" + person['first_name'].title())\n",
    "print(\"Last Name: \" + person['last_name'].title())\n",
    "print(\"Age: \" + str(person['age']))\n",
    "print(\"City: \" + person['city'].title())\n"
   ]
  },
  {
   "cell_type": "code",
   "execution_count": null,
   "metadata": {},
   "outputs": [
    {
     "name": "stdout",
     "output_type": "stream",
     "text": [
      "Sani's favorite number is 3.\n",
      "Idris's favorite number is 4.\n",
      "Mansur's favorite number is 6.\n"
     ]
    }
   ],
   "source": [
    "# 6.2 Favorite Numbers \n",
    "favorite_numbers = {\n",
    "    'sani': 3,\n",
    "    'idris': 4,\n",
    "    'mansur': 6,\n",
    "    'nazifi': 1,\n",
    "    'mustafa': 19,\n",
    "    }\n",
    "\n",
    "print(\"Sani's favorite number is \" +\n",
    "      str(favorite_numbers['sani']) +\n",
    "      '.')\n",
    "\n",
    "print(\"Idris's favorite number is \" +\n",
    "      str(favorite_numbers['idris']) +\n",
    "      '.')\n",
    "\n",
    "print(\"Mansur's favorite number is \" +\n",
    "      str(favorite_numbers['mansur']) +\n",
    "      '.')"
   ]
  },
  {
   "cell_type": "code",
   "execution_count": 24,
   "metadata": {},
   "outputs": [
    {
     "name": "stdout",
     "output_type": "stream",
     "text": [
      "Variable: \n",
      "\tcontainer to store values\n",
      "\n",
      "String: \n",
      "\ta characters\n",
      "\n",
      "Integer: \n",
      "\ta positive pr negative whole numbers\n",
      "\n",
      "Float: \n",
      "\ta decimal point numbers\n",
      "\n",
      "List: \n",
      "\ta list of items\n"
     ]
    }
   ],
   "source": [
    "# 6,3 Glossary \n",
    "glossary = {\n",
    "    'variable': 'container to store values',\n",
    "    'string': 'a characters',\n",
    "    'integer': 'a positive pr negative whole numbers',\n",
    "    'float': 'a decimal point numbers',\n",
    "    'list': 'a list of items',\n",
    "    }\n",
    "\n",
    "print('Variable: ' + '\\n\\t' + glossary['variable'])\n",
    "print('\\nString: ' + '\\n\\t' + glossary['string'])\n",
    "print('\\nInteger: ' + '\\n\\t' + glossary['integer'])\n",
    "print('\\nFloat: ' + '\\n\\t' + glossary['float'])\n",
    "print('\\nList: ' + '\\n\\t' + glossary['list'])"
   ]
  },
  {
   "cell_type": "code",
   "execution_count": 4,
   "metadata": {},
   "outputs": [
    {
     "name": "stdout",
     "output_type": "stream",
     "text": [
      "variable: \n",
      "\tcontainer to store values\n",
      "string: \n",
      "\ta characters\n",
      "integer: \n",
      "\ta positive pr negative whole numbers\n",
      "float: \n",
      "\ta decimal point numbers\n",
      "list: \n",
      "\ta list of items\n",
      "dictionary: \n",
      "\tdata stracture that contain key-value pairs\n"
     ]
    }
   ],
   "source": [
    "# 6.4 glossary 2 \n",
    "\n",
    "glossary = {\n",
    "    'variable': 'container to store values',\n",
    "    'string': 'a characters',\n",
    "    'integer': 'a positive pr negative whole numbers',\n",
    "    'float': 'a decimal point numbers',\n",
    "    'list': 'a list of items',\n",
    "    'dictionary': 'data stracture that contain key-value pairs'\n",
    "    }\n",
    "\n",
    "for word, meaning in glossary.items():\n",
    "    print(word + ': ' + '\\n\\t' + meaning)\n",
    "    "
   ]
  },
  {
   "cell_type": "code",
   "execution_count": 6,
   "metadata": {},
   "outputs": [
    {
     "name": "stdout",
     "output_type": "stream",
     "text": [
      "Nile runs tirough Egypt\n",
      "Amazon runs tirough Brazil\n",
      "Vangtze runs tirough China\n",
      "Danube runs tirough Germany\n",
      "Mississippi runs tirough United State\n"
     ]
    }
   ],
   "source": [
    "# 6.5 Rivers \n",
    "rivers = {'nile': 'egypt', 'amazon': 'brazil', 'vangtze': 'china', 'danube': 'germany', 'mississippi': 'united state'}\n",
    "\n",
    "for river, country in rivers.items():\n",
    "    print(river.title() + ' runs tirough ' + country.title())"
   ]
  },
  {
   "cell_type": "code",
   "execution_count": 7,
   "metadata": {},
   "outputs": [
    {
     "name": "stdout",
     "output_type": "stream",
     "text": [
      "nile\n",
      "amazon\n",
      "vangtze\n",
      "danube\n",
      "mississippi\n"
     ]
    }
   ],
   "source": [
    "for river in rivers:\n",
    "    print(river)"
   ]
  },
  {
   "cell_type": "code",
   "execution_count": 8,
   "metadata": {},
   "outputs": [
    {
     "name": "stdout",
     "output_type": "stream",
     "text": [
      "egypt\n",
      "brazil\n",
      "china\n",
      "germany\n",
      "united state\n"
     ]
    }
   ],
   "source": [
    "for country in rivers.values():\n",
    "    print(country)"
   ]
  },
  {
   "cell_type": "code",
   "execution_count": 13,
   "metadata": {},
   "outputs": [
    {
     "name": "stdout",
     "output_type": "stream",
     "text": [
      "We invite you John to take the poll.\n",
      "Thank you Jen for responding.\n",
      "We invite you Isah to take the poll.\n",
      "We invite you Dahiru to take the poll.\n",
      "We invite you Pill to take the poll.\n",
      "We invite you Maja to take the poll.\n",
      "We invite you Hafsa to take the poll.\n"
     ]
    }
   ],
   "source": [
    "# 6.6 Polling\n",
    "favorite_languages = {\n",
    "'jen': 'python',\n",
    "'sarah': 'c',\n",
    "'edward': 'ruby',\n",
    "'phil': 'python',\n",
    "}\n",
    "\n",
    "participants = ['john', 'jen', 'isah', 'dahiru', 'pill', 'maja', 'hafsa']\n",
    "\n",
    "for participant in participants:\n",
    "    if participant in favorite_languages.keys():\n",
    "        print(\"Thank you \" + participant.title() + \" for responding.\")\n",
    "    else:\n",
    "        print(\"We invite you \" + participant.title() + \" to take the poll.\")"
   ]
  },
  {
   "cell_type": "code",
   "execution_count": null,
   "metadata": {},
   "outputs": [
    {
     "name": "stdout",
     "output_type": "stream",
     "text": [
      "{'first_name': 'isah', 'last_name': 'musa', 'age': 32, 'city': 'kano'}\n",
      "{'first_name': 'haruna', 'last_name': 'ishaq', 'age': 36, 'city': 'jos'}\n",
      "{'first_name': 'lukman', 'last_name': 'abdulhakim', 'age': 23, 'city': 'lagos'}\n"
     ]
    }
   ],
   "source": [
    "# 6.7 People \n",
    "person_0 = {'first_name': 'isah', 'last_name': 'musa', 'age': 32, 'city': 'kano'}\n",
    "person_1 = {'first_name': 'haruna', 'last_name': 'ishaq', 'age': 36, 'city': 'jos'}\n",
    "person_2 = {'first_name': 'lukman', 'last_name': 'abdulhakim', 'age': 23, 'city': 'lagos'}\n",
    "\n",
    "people = [person_0, person_1, person_2]\n",
    "\n",
    "for person in people:\n",
    "    print(person)"
   ]
  },
  {
   "cell_type": "code",
   "execution_count": null,
   "metadata": {},
   "outputs": [
    {
     "name": "stdout",
     "output_type": "stream",
     "text": [
      "My name is Isah Musa, 32 years old and I live in Kano\n",
      "My name is Haruna Ishaq, 36 years old and I live in Jos\n",
      "My name is Lukman Abdulhakim, 23 years old and I live in Lagos\n"
     ]
    }
   ],
   "source": [
    "# 6.8 Pets\n",
    "person_0 = {'first_name': 'isah', 'last_name': 'musa', 'age': 32, 'city': 'kano'}\n",
    "person_1 = {'first_name': 'haruna', 'last_name': 'ishaq', 'age': 36, 'city': 'jos'}\n",
    "person_2 = {'first_name': 'lukman', 'last_name': 'abdulhakim', 'age': 23, 'city': 'lagos'}\n",
    "\n",
    "people = [person_0, person_1, person_2]\n",
    "\n",
    "for person in people:\n",
    "    print('My name is ' + person['first_name'].title() + ' ' + person['last_name'].title() + ', ' + \n",
    "          str(person['age']) + ' years old and I live in ' + person['city'].title())\n",
    "    \n"
   ]
  },
  {
   "cell_type": "code",
   "execution_count": null,
   "metadata": {},
   "outputs": [
    {
     "name": "stdout",
     "output_type": "stream",
     "text": [
      "DALIHU\n",
      "\tKazaure\n",
      "\tTsanyawa\n",
      "\tJakara\n",
      "ZAKARI\n",
      "\tLondon\n",
      "\tKalfonia\n",
      "\tVajin\n",
      "RABIATU\n",
      "\tGermany\n",
      "\tIsrael\n",
      "\tAbuja\n"
     ]
    }
   ],
   "source": [
    "# 6.9 favorite_places\n",
    "\n",
    "favorite_places = {\n",
    "    'dalihu': ['kazaure', 'tsanyawa', 'jakara'],\n",
    "    'zakari': ['london', 'kalfonia', 'vajin'],\n",
    "    'rabiatu': ['germany', 'israel', 'abuja'],\n",
    "    }\n",
    "\n",
    "for name, places in favorite_places.items():\n",
    "    print(name.upper())\n",
    "    for place in places:\n",
    "        print('\\t' + place.title())"
   ]
  },
  {
   "cell_type": "code",
   "execution_count": 37,
   "metadata": {},
   "outputs": [
    {
     "name": "stdout",
     "output_type": "stream",
     "text": [
      "Sani loves these numbers: \n",
      "\t3\n",
      "\t3\n",
      "\t5\n",
      "\t7\n",
      "\t8\n",
      "Idris loves these numbers: \n",
      "\t4\n",
      "\t3\n",
      "\t6\n",
      "\t8\n",
      "\t0\n",
      "\t2\n",
      "Mansur loves these numbers: \n",
      "\t6\n",
      "\t5\n",
      "\t6\n",
      "\t32\n",
      "\t66\n",
      "\t7\n",
      "Nazifi loves these numbers: \n",
      "\t1\n",
      "\t12\n",
      "\t43\n",
      "\t54\n",
      "\t64\n",
      "Mustafa loves these numbers: \n",
      "\t19\n",
      "\t43\n",
      "\t6\n"
     ]
    }
   ],
   "source": [
    "# 6.10 favorite_numbers\n",
    "\n",
    "favorite_numbers = {\n",
    "    'sani': [3, 3, 5, 7, 8],\n",
    "    'idris': [4, 3, 6, 8, 0, 2],\n",
    "    'mansur': [6, 5, 6, 32, 66, 7],\n",
    "    'nazifi': [1, 12, 43, 54, 64],\n",
    "    'mustafa': [19, 43, 6,],\n",
    "    }\n",
    "\n",
    "for name, numbers in favorite_numbers.items():\n",
    "    print(name.title() + ' loves these numbers: ')\n",
    "    for num in numbers:\n",
    "        print('\\t' + str(num))\n"
   ]
  },
  {
   "cell_type": "code",
   "execution_count": 10,
   "metadata": {},
   "outputs": [
    {
     "name": "stdout",
     "output_type": "stream",
     "text": [
      "KANO\n",
      "country: nigeria\n",
      "population: 20000\n",
      "fact: center of commerce\n",
      "BEJIN\n",
      "country: chine\n",
      "population: 30000\n",
      "fact: short poeple\n",
      "WHITE HOUSE\n",
      "country: america\n",
      "population: 25443\n",
      "fact: equity\n"
     ]
    }
   ],
   "source": [
    "# 6.11 Cities\n",
    "\n",
    "cities = {\n",
    "    'kano': {'country': 'nigeria', 'population': 20000, 'fact': 'center of commerce',},\n",
    "    'bejin': {'country': 'chine', 'population': 30000, 'fact': 'short poeple',},\n",
    "    'white house': {'country': 'america', 'population': 25443, 'fact': 'equity',},\n",
    "    }\n",
    "\n",
    "for city, infos in cities.items():\n",
    "    print(city.upper())\n",
    "    for k, v in infos.items():\n",
    "        print(k + ': '  + str(v))"
   ]
  },
  {
   "cell_type": "code",
   "execution_count": 9,
   "metadata": {},
   "outputs": [
    {
     "name": "stdout",
     "output_type": "stream",
     "text": [
      "KANO\n",
      "\tcountry: Nigeria\n",
      "\tpopulation: 20000\n",
      "\tfact: Center Of Commerce\n",
      "BEJIN\n",
      "\tcountry: Chine\n",
      "\tpopulation: 30000\n",
      "\tfact: Short Poeple\n",
      "WHITE HOUSE\n",
      "\tcountry: America\n",
      "\tpopulation: 25443\n",
      "\tfact: Equity\n",
      "LONDON\n",
      "\tcountry: England\n",
      "\tpopulation: 76543\n",
      "\tfact: Trust\n"
     ]
    }
   ],
   "source": [
    "# 6.12 Ectension\n",
    "\n",
    "cities = {\n",
    "    'kano': {'country': 'nigeria', 'population': 20000, 'fact': 'center of commerce',},\n",
    "    'bejin': {'country': 'chine', 'population': 30000, 'fact': 'short poeple',},\n",
    "    'white house': {'country': 'america', 'population': 25443, 'fact': 'equity',},\n",
    "    }\n",
    "\n",
    "cities['london'] = {'country': 'england', 'population': 76543, 'fact': 'trust'}\n",
    "\n",
    "for city, infos in cities.items():\n",
    "    print(city.upper() )\n",
    "    for k, v in infos.items():\n",
    "        print('\\t' + k + ': '  + str(v).title())\n",
    "\n"
   ]
  },
  {
   "cell_type": "code",
   "execution_count": 42,
   "metadata": {},
   "outputs": [
    {
     "name": "stdout",
     "output_type": "stream",
     "text": [
      "#\n",
      "\n",
      "#\n",
      "\n",
      "#\n",
      "\n",
      "#\n",
      "\n",
      "#\n",
      "#\n",
      "\n",
      "#\n",
      "\n",
      "#\n",
      "\n",
      "#\n",
      "\n",
      "#\n",
      "#\n",
      "\n",
      "#\n",
      "\n",
      "#\n",
      "\n",
      "#\n",
      "\n",
      "#\n",
      "#\n",
      "\n",
      "#\n",
      "\n",
      "#\n",
      "\n",
      "#\n",
      "\n",
      "#\n"
     ]
    }
   ],
   "source": [
    "value = '#'\n",
    "for a in range(4):\n",
    "    print('#')\n",
    "    for b in range(4):\n",
    "        print('\\n#')\n",
    "\n"
   ]
  },
  {
   "cell_type": "code",
   "execution_count": null,
   "metadata": {},
   "outputs": [],
   "source": []
  }
 ],
 "metadata": {
  "kernelspec": {
   "display_name": "Python 3",
   "language": "python",
   "name": "python3"
  },
  "language_info": {
   "codemirror_mode": {
    "name": "ipython",
    "version": 3
   },
   "file_extension": ".py",
   "mimetype": "text/x-python",
   "name": "python",
   "nbconvert_exporter": "python",
   "pygments_lexer": "ipython3",
   "version": "3.10.12"
  }
 },
 "nbformat": 4,
 "nbformat_minor": 2
}
