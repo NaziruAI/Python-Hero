{
 "cells": [
  {
   "cell_type": "code",
   "execution_count": 8,
   "metadata": {},
   "outputs": [
    {
     "name": "stdout",
     "output_type": "stream",
     "text": [
      "Let me see if I can find you a 207\n"
     ]
    }
   ],
   "source": [
    "# 7.1 Rantal Car \n",
    "rental_car = input('Enter the name of rantal car you like ')\n",
    "print(\"Let me see if I can find you a \" + rental_car.title() )"
   ]
  },
  {
   "cell_type": "code",
   "execution_count": 10,
   "metadata": {},
   "outputs": [
    {
     "name": "stdout",
     "output_type": "stream",
     "text": [
      "You would have to wait for a table.\n"
     ]
    }
   ],
   "source": [
    "# 7-2. Restaurant Seating:\n",
    "\n",
    "number = input(\"Hoe many people are in the donner group? \")\n",
    "\n",
    "number = int(number)\n",
    "if number > 8:\n",
    "    print(\"You would have to wait for a table.\")\n",
    "else:\n",
    "    print(\"Your table is ready!\")"
   ]
  },
  {
   "cell_type": "code",
   "execution_count": null,
   "metadata": {},
   "outputs": [
    {
     "name": "stdout",
     "output_type": "stream",
     "text": [
      "100 is multiple of 10.\n"
     ]
    }
   ],
   "source": [
    "# 7-3. Multiples of Ten:\n",
    "\n",
    "num = input(\"enter a number: \")\n",
    "\n",
    "num = int(num)\n",
    "if num % 10 == 0:\n",
    "    print(str(num) + \" is multiple of 10.\")\n",
    "else:\n",
    "    print(str(num) + \" is not multiple of 10.\")"
   ]
  },
  {
   "cell_type": "code",
   "execution_count": 1,
   "metadata": {},
   "outputs": [
    {
     "name": "stdout",
     "output_type": "stream",
     "text": [
      "Okay I will add mushrem topping to your pizza\n",
      "Okay I will add chich topping to your pizza\n",
      "Okay I will add resdf topping to your pizza\n"
     ]
    }
   ],
   "source": [
    "# 7-4. Pizza Toppings:\n",
    "import sys\n",
    "prompt = \"\\nEnter pizza topping:\"\n",
    "prompt += \"\\nEnter 'quit' to end the program. \"\n",
    "\n",
    "message = \"\"\n",
    "while message != 'quit':\n",
    "    message = input(prompt)\n",
    "    if message != 'quit':\n",
    "        print(\"Okay I will add \" + message + \" topping to your pizza\")\n",
    "\n",
    "    sys.stdout.flush()"
   ]
  },
  {
   "cell_type": "code",
   "execution_count": 3,
   "metadata": {},
   "outputs": [
    {
     "name": "stdout",
     "output_type": "stream",
     "text": [
      "Your ticket is free.\n",
      "invalid input, please vlaid or quit\n",
      "Your ticket fee is $10.\n",
      "invalid input, please vlaid or quit\n",
      "Good bye\n"
     ]
    }
   ],
   "source": [
    "# 7-5. Movie Tickets:\n",
    "import sys\n",
    "while True:\n",
    "    age = input(\"Enter your age: \")\n",
    "\n",
    "    if  str(age).lower() == 'quit':\n",
    "        print(\"Good bye\")\n",
    "        break\n",
    "\n",
    "\n",
    "    try:\n",
    "        age = int(age)\n",
    "\n",
    "        if age < 3:\n",
    "            print(\"Your ticket is free.\")\n",
    "        elif age <= 12:\n",
    "            print(\"Your ticket fee is $10.\")\n",
    "        else:\n",
    "            print(\"Your ticket fee is $15.\")\n",
    "    except ValueError:\n",
    "        print(\"invalid input, please vlaid or quit\")\n",
    "\n",
    "    sys.stdout.flush()\n"
   ]
  },
  {
   "cell_type": "code",
   "execution_count": null,
   "metadata": {},
   "outputs": [],
   "source": [
    "# 7-6. three wxits:\n",
    "import sys\n",
    "while True:\n",
    "    age = input(\"Enter your age: \")\n",
    "\n",
    "    if  str(age).lower() == 'quit':\n",
    "        print(\"Good bye\")\n",
    "        break\n",
    "\n",
    "\n",
    "    try:\n",
    "        age = int(age)\n",
    "\n",
    "        if age < 3:\n",
    "            print(\"Your ticket is free.\")\n",
    "        elif age <= 12:\n",
    "            print(\"Your ticket fee is $10.\")\n",
    "        else:\n",
    "            print(\"Your ticket fee is $15.\")\n",
    "    except ValueError:\n",
    "        print(\"invalid input, please vlaid or quit\")\n",
    "\n",
    "    sys.stdout.flush()\n"
   ]
  },
  {
   "cell_type": "code",
   "execution_count": null,
   "metadata": {},
   "outputs": [],
   "source": [
    "# 7-6. Three Test:\n",
    "# Use a conditional test in the while statement to stop the loop.\n",
    "import sys\n",
    "prompt = \"\\nEnter pizza topping:\"\n",
    "prompt += \"\\nEnter 'quit' to end the program. \"\n",
    "\n",
    "while message != 'quit':\n",
    "    message = input(prompt)\n",
    "    if message != 'quit':\n",
    "        print(\"Okay I will add \" + message + \" topping to your pizza\")\n",
    "\n",
    "    sys.stdout.flush()"
   ]
  },
  {
   "cell_type": "code",
   "execution_count": 2,
   "metadata": {},
   "outputs": [
    {
     "name": "stdout",
     "output_type": "stream",
     "text": [
      "Okay I will add fsfsfdfs topping to your pizza\n",
      "Okay I will add fsdfsafsfs topping to your pizza\n",
      "Okay I will add fsfsf topping to your pizza\n"
     ]
    }
   ],
   "source": [
    "# Use an active variable to control how long the loop runs.\n",
    "import sys\n",
    "prompt = \"\\nEnter pizza topping:\"\n",
    "prompt += \"\\nEnter 'quit' to end the program. \"\n",
    "\n",
    "actice = True\n",
    "while actice:\n",
    "    message = input(prompt)\n",
    "    if message != 'quit':\n",
    "        print(\"Okay I will add \" + message + \" topping to your pizza\")\n",
    "    else:\n",
    "        actice = False\n",
    "\n",
    "    sys.stdout.flush()"
   ]
  },
  {
   "cell_type": "code",
   "execution_count": 4,
   "metadata": {},
   "outputs": [
    {
     "name": "stdout",
     "output_type": "stream",
     "text": [
      "Okay I will add 345trfdg topping to your pizza\n",
      "Okay I will add fdgffds topping to your pizza\n"
     ]
    }
   ],
   "source": [
    "# Use a break statement to exit the loop when the user enters a 'quit' value.\n",
    "import sys\n",
    "prompt = \"\\nEnter pizza topping:\"\n",
    "prompt += \"\\nEnter 'quit' to end the program. \"\n",
    "\n",
    "while True:\n",
    "    message = input(prompt)\n",
    "    if message != 'quit':\n",
    "        print(\"Okay I will add \" + message + \" topping to your pizza\")\n",
    "    else:\n",
    "        break\n",
    "\n",
    "    sys.stdout.flush()"
   ]
  },
  {
   "cell_type": "code",
   "execution_count": 13,
   "metadata": {},
   "outputs": [
    {
     "name": "stdout",
     "output_type": "stream",
     "text": [
      "I made your veggie delight sandwich.\n",
      "I made your ham amd chese sandwich.\n",
      "I made your reuben sandwich.\n",
      "I made your club sandwich.\n",
      "I made your grilled chese sandwich.\n",
      "I made your BLT sandwich.\n",
      "\n",
      " Finished Sandwiches are: \n",
      "\n",
      "\tveggie delight\n",
      "\tham amd chese\n",
      "\treuben\n",
      "\tclub\n",
      "\tgrilled chese\n",
      "\tBLT\n"
     ]
    }
   ],
   "source": [
    "# 7-8. Deli: \n",
    "sandwich_orders = ['BLT', 'grilled chese', 'club', 'reuben', 'ham amd chese', 'veggie delight']\n",
    "finished_sandwiches = []\n",
    "\n",
    "while sandwich_orders:\n",
    "    preparing_sandwich = sandwich_orders.pop()\n",
    "\n",
    "    print(\"I made your \" + preparing_sandwich + \" sandwich.\")\n",
    "\n",
    "    finished_sandwiches.append(preparing_sandwich)\n",
    "\n",
    "print(\"\\n Finished Sandwiches are: \\n\")\n",
    "for sandwich in finished_sandwiches:\n",
    "    print(\"\\t\" + sandwich)"
   ]
  },
  {
   "cell_type": "code",
   "execution_count": 16,
   "metadata": {},
   "outputs": [
    {
     "name": "stdout",
     "output_type": "stream",
     "text": [
      "['BLT', 'pastrami', 'grilled chese', 'club', 'reuben', 'pastrami', 'ham amd chese', 'pastrami', 'veggie delight', 'pastrami']\n",
      "10\n",
      "\n",
      "the deli has run out of pastrami,\n",
      "['BLT', 'grilled chese', 'club', 'reuben', 'ham amd chese', 'veggie delight']\n",
      "6\n"
     ]
    }
   ],
   "source": [
    "# 7-9. No Pastrami:\n",
    "sandwich_orders = ['BLT', 'pastrami', 'grilled chese', 'club', 'reuben', 'pastrami', 'ham amd chese', 'pastrami', 'veggie delight', 'pastrami']\n",
    "print(sandwich_orders)\n",
    "print(len(sandwich_orders))\n",
    "\n",
    "print(\"\\nthe deli has run out of pastrami,\")\n",
    "\n",
    "while 'pastrami' in sandwich_orders:\n",
    "    sandwich_orders.remove('pastrami')\n",
    "print(sandwich_orders)\n",
    "print(len(sandwich_orders))\n",
    "\n",
    "\n"
   ]
  },
  {
   "cell_type": "code",
   "execution_count": 7,
   "metadata": {},
   "outputs": [
    {
     "name": "stdout",
     "output_type": "stream",
     "text": [
      "\n",
      "Results for the places to visit:\n",
      "Sfdgfd wants to visit Fdgfhfg.\n",
      "Sfdgggggfds wants to visit Nfdgfd.\n"
     ]
    }
   ],
   "source": [
    "# 7-10. Dream Vacation:\n",
    "import sys\n",
    "messages = {}\n",
    "\n",
    "active = True  # Correct loop condition\n",
    "while active:  # Loop runs until `active` is set to False\n",
    "    visitor = input(\"Enter visitor name: \")\n",
    "    place = input(\"Place to visit: \")\n",
    "\n",
    "    messages[visitor] = place\n",
    "\n",
    "    repeat = input(\"Would you like to add another person's visit? (yes/no): \").strip().lower()\n",
    "    if repeat == 'no':\n",
    "        active = False  # Explicitly stop the loop\n",
    "\n",
    "print(\"\\nResults for the places to visit:\")\n",
    "for visitor, place in messages.items():\n",
    "    print(visitor.title() + \" wants to visit \" + place.title() + \".\")\n",
    "\n",
    "\n",
    "sys.stdout.flush()"
   ]
  },
  {
   "cell_type": "code",
   "execution_count": null,
   "metadata": {},
   "outputs": [],
   "source": []
  }
 ],
 "metadata": {
  "kernelspec": {
   "display_name": "base",
   "language": "python",
   "name": "python3"
  },
  "language_info": {
   "codemirror_mode": {
    "name": "ipython",
    "version": 3
   },
   "file_extension": ".py",
   "mimetype": "text/x-python",
   "name": "python",
   "nbconvert_exporter": "python",
   "pygments_lexer": "ipython3",
   "version": "3.12.3"
  }
 },
 "nbformat": 4,
 "nbformat_minor": 2
}
